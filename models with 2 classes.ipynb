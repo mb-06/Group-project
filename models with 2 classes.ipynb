{
 "cells": [
  {
   "cell_type": "markdown",
   "id": "55fa222e",
   "metadata": {},
   "source": [
    "# Import Libraries"
   ]
  },
  {
   "cell_type": "code",
   "execution_count": null,
   "id": "1b2db4ee",
   "metadata": {},
   "outputs": [],
   "source": [
    "#pip install vaderSentiment"
   ]
  },
  {
   "cell_type": "code",
   "execution_count": 1,
   "id": "0c00b4e3",
   "metadata": {},
   "outputs": [],
   "source": [
    "import warnings\n",
    "warnings.filterwarnings('ignore')"
   ]
  },
  {
   "cell_type": "code",
   "execution_count": 3,
   "id": "f669204d",
   "metadata": {},
   "outputs": [],
   "source": [
    "import pandas as pd\n",
    "import numpy as np\n",
    "from scipy.sparse import hstack\n",
    "import spacy\n",
    "import re\n",
    "import nltk\n",
    "from nltk.tokenize import word_tokenize\n",
    "nlp = spacy.load(\"en_core_web_sm\")\n",
    "nlp.Defaults.stop_words -= {\"not\", \"do\"}\n",
    "from autocorrect import Speller\n",
    "nltk.download('words', quiet=True)\n",
    "import emoji\n",
    "import sqlite3\n",
    "import re\n",
    "from nltk.corpus import stopwords\n",
    "from nltk.stem import WordNetLemmatizer\n",
    "from textblob import TextBlob\n",
    "from nltk.corpus import words\n",
    "from sklearn.feature_extraction.text import CountVectorizer\n",
    "from sklearn.feature_extraction.text import TfidfVectorizer\n",
    "from sklearn.ensemble import RandomForestClassifier\n",
    "from sklearn.metrics import accuracy_score, confusion_matrix, precision_score, recall_score, ConfusionMatrixDisplay\n",
    "from sklearn.model_selection import RandomizedSearchCV, train_test_split\n",
    "import xgboost as xgb\n",
    "from sklearn.model_selection import train_test_split\n",
    "from sklearn.naive_bayes import MultinomialNB\n",
    "import contractions\n",
    "nltk.download('wordnet', quiet=True)\n",
    "from vaderSentiment.vaderSentiment import SentimentIntensityAnalyzer\n",
    "import gensim\n",
    "import gensim.corpora as corpora\n",
    "from gensim.models import CoherenceModel\n",
    "from gensim.utils import simple_preprocess\n",
    "from gensim.models.ldamodel import LdaModel\n",
    "from pprint import pprint\n",
    "from sklearn.feature_selection import SelectKBest, chi2\n",
    "from sklearn.decomposition import PCA\n",
    "from sklearn.naive_bayes import MultinomialNB\n",
    "from sklearn.naive_bayes import GaussianNB\n",
    "from sklearn.ensemble import RandomForestClassifier\n",
    "from sklearn.metrics import accuracy_score, confusion_matrix, precision_score, recall_score, ConfusionMatrixDisplay\n",
    "from sklearn.model_selection import RandomizedSearchCV, train_test_split\n",
    "from scipy.stats import randint\n",
    "from sklearn.linear_model import LogisticRegression\n",
    "from sklearn.metrics import classification_report\n",
    "from sklearn import svm\n"
   ]
  },
  {
   "cell_type": "markdown",
   "id": "5561059f",
   "metadata": {},
   "source": [
    "# Import dataset"
   ]
  },
  {
   "cell_type": "code",
   "execution_count": 4,
   "id": "c64396c0",
   "metadata": {},
   "outputs": [],
   "source": [
    "conn = sqlite3.connect(\"IMDB_Movies_2021.db\")\n",
    "\n",
    "cursor = conn.cursor()\n",
    "\n",
    "table_name = \"REVIEWS\"\n",
    "\n",
    "df = pd.read_sql_query(f\"SELECT * FROM {table_name}\", conn)\n",
    "\n",
    "conn.close()"
   ]
  },
  {
   "cell_type": "markdown",
   "id": "cbbc7536",
   "metadata": {},
   "source": [
    "# Drop duplicates and remove nulls"
   ]
  },
  {
   "cell_type": "code",
   "execution_count": 5,
   "id": "27604dd4",
   "metadata": {},
   "outputs": [],
   "source": [
    "df = df.drop_duplicates(subset = ['REVIEW','AUTHOR'])\n",
    "df = df.dropna()"
   ]
  },
  {
   "cell_type": "markdown",
   "id": "f05d812a",
   "metadata": {},
   "source": [
    "# Combine review and title"
   ]
  },
  {
   "cell_type": "code",
   "execution_count": 6,
   "id": "cf001935",
   "metadata": {},
   "outputs": [],
   "source": [
    "df['FIXED_REVIEW'] = df['REVIEW'] +df['TITLE']"
   ]
  },
  {
   "cell_type": "code",
   "execution_count": 7,
   "id": "e074dddf",
   "metadata": {},
   "outputs": [
    {
     "data": {
      "text/plain": [
       "0       I don't get all the terrible reviews for this ...\n",
       "1       I cannot believe anyone could give this film l...\n",
       "2       Great White is not the worst way to spend 90 m...\n",
       "3       Great White is as basic of a killer shark film...\n",
       "4       Terrible story, dialogue and CGI. The film has...\n",
       "                              ...                        \n",
       "5420    It's master piece by Zack please part 2,3,4 al...\n",
       "5421    No words to describe. It's awesome. One of the...\n",
       "5422    Far better than previous one and better editin...\n",
       "5423    Why did the studio say no to this masterpiece?...\n",
       "5424    Overall Opinion-\\nAlthough the competitors Mar...\n",
       "Name: FIXED_REVIEW, Length: 5304, dtype: object"
      ]
     },
     "execution_count": 7,
     "metadata": {},
     "output_type": "execute_result"
    }
   ],
   "source": [
    "df['FIXED_REVIEW']"
   ]
  },
  {
   "cell_type": "markdown",
   "id": "f4d05229",
   "metadata": {},
   "source": [
    "# Simple preprocesing: lowercase, punctuation, emojis"
   ]
  },
  {
   "cell_type": "code",
   "execution_count": 8,
   "id": "82a80df9",
   "metadata": {},
   "outputs": [],
   "source": [
    "# Cleaned the text by using Regex\n",
    "df['FIXED_REVIEW'] = [review.lower() for review in df['FIXED_REVIEW']]   # Lowercase\n",
    "df['FIXED_REVIEW'] = [re.sub(r'[^a-zA-Z\\s]', '', review) for review in df['FIXED_REVIEW']]  # Remove punctuation and numbers\n",
    "df['FIXED_REVIEW'] = [re.sub(r'@\\w+', '', review) for review in df['FIXED_REVIEW']]   # Remove mentions\n",
    "df['FIXED_REVIEW'] = [re.sub(r'#\\w+', '', review) for review in df['FIXED_REVIEW']]   # Remove hashtags\n",
    "df['FIXED_REVIEW'] = [re.sub(r'http\\S+|www\\S+|https\\S+', '', review) for review in df['FIXED_REVIEW']]  # Remove URLS\n",
    "df['FIXED_REVIEW'] = [emoji.demojize(review) for review in df['FIXED_REVIEW']]    # Emoji to text"
   ]
  },
  {
   "cell_type": "code",
   "execution_count": 9,
   "id": "28549f76",
   "metadata": {},
   "outputs": [
    {
     "data": {
      "text/plain": [
       "0       i dont get all the terrible reviews for this m...\n",
       "1       i cannot believe anyone could give this film l...\n",
       "2       great white is not the worst way to spend  min...\n",
       "3       great white is as basic of a killer shark film...\n",
       "4       terrible story dialogue and cgi the film has a...\n",
       "                              ...                        \n",
       "5420    its master piece by zack please part  also man...\n",
       "5421    no words to describe its awesome one of the be...\n",
       "5422    far better than previous one and better editin...\n",
       "5423    why did the studio say no to this masterpiece ...\n",
       "5424    overall opinion\\nalthough the competitors marv...\n",
       "Name: FIXED_REVIEW, Length: 5304, dtype: object"
      ]
     },
     "execution_count": 9,
     "metadata": {},
     "output_type": "execute_result"
    }
   ],
   "source": [
    "df['FIXED_REVIEW']"
   ]
  },
  {
   "cell_type": "markdown",
   "id": "04fbc286",
   "metadata": {},
   "source": [
    "# Remove stop short and long words, lemmatize"
   ]
  },
  {
   "cell_type": "code",
   "execution_count": 10,
   "id": "466b3b98",
   "metadata": {},
   "outputs": [],
   "source": [
    "stop_words = set(stopwords.words('english'))\n",
    "stop_words.remove('not')\n",
    "stop_words.remove('no')\n",
    "def sentiment(word):\n",
    "    blob = TextBlob(word)\n",
    "    sentiment = blob.sentiment.polarity\n",
    "    return np.abs(sentiment)"
   ]
  },
  {
   "cell_type": "code",
   "execution_count": 11,
   "id": "402c2153",
   "metadata": {},
   "outputs": [],
   "source": [
    "def remove_stop_words(text):\n",
    "    text = contractions.fix(text)\n",
    "    words = text.split()    # Tokenize the text into words\n",
    "    lemmatizer = WordNetLemmatizer()\n",
    "    filtered_words = [word for word in words if word.lower() not in stop_words]\n",
    "    filtered_words = [lemmatizer.lemmatize(word) for word in filtered_words]\n",
    "    filtered_words = [word for word in filtered_words if len(word) >= 2]\n",
    "    filtered_words = [word for word in filtered_words if len(word) < 10]\n",
    "    filtered_words = [word for word in filtered_words if sentiment(word) != 0 ]\n",
    "    return ' '.join(filtered_words)"
   ]
  },
  {
   "cell_type": "code",
   "execution_count": 12,
   "id": "96978f1a",
   "metadata": {},
   "outputs": [],
   "source": [
    "df['FIXED_REVIEW'] = df['FIXED_REVIEW'].apply(remove_stop_words)"
   ]
  },
  {
   "cell_type": "code",
   "execution_count": 13,
   "id": "40aada42",
   "metadata": {},
   "outputs": [
    {
     "data": {
      "text/plain": [
       "0       terrible bad special worthy terrible good litt...\n",
       "1                                 less great exciting bad\n",
       "2       great worst wealthy victim great cheap great c...\n",
       "3       great everyday ordinary ok certain real bloody...\n",
       "4                  terrible wide first much much terrible\n",
       "                              ...                        \n",
       "5420                                                     \n",
       "5421                               awesome best fantastic\n",
       "5422                   far better previous better awesome\n",
       "5423                                  seriously mean epic\n",
       "5424    comic enjoy clear perfect strong previous clea...\n",
       "Name: FIXED_REVIEW, Length: 5304, dtype: object"
      ]
     },
     "execution_count": 13,
     "metadata": {},
     "output_type": "execute_result"
    }
   ],
   "source": [
    "df['FIXED_REVIEW']"
   ]
  },
  {
   "cell_type": "markdown",
   "id": "55c186bc",
   "metadata": {},
   "source": [
    "# Remove misspelt words (maybe replace with better method)"
   ]
  },
  {
   "cell_type": "code",
   "execution_count": 14,
   "id": "c6034d7d",
   "metadata": {},
   "outputs": [],
   "source": [
    "spell = Speller()\n",
    "df['FIXED_REVIEW'] = df['FIXED_REVIEW'].apply(spell)"
   ]
  },
  {
   "cell_type": "code",
   "execution_count": 15,
   "id": "f8e8a93b",
   "metadata": {},
   "outputs": [
    {
     "name": "stdout",
     "output_type": "stream",
     "text": [
      "True\n"
     ]
    }
   ],
   "source": [
    "setofwords = set(words.words())\n",
    "\n",
    "print(\"excited\" in setofwords)"
   ]
  },
  {
   "cell_type": "code",
   "execution_count": 16,
   "id": "5cecbc1f",
   "metadata": {},
   "outputs": [],
   "source": [
    "j = 0\n",
    "new_review = []\n",
    "\n",
    "for i in df['FIXED_REVIEW']:\n",
    "    words = word_tokenize(i)\n",
    "    new_words = []\n",
    "    for word in words:\n",
    "        if word in setofwords:\n",
    "            new_words.append(word)\n",
    "    sentence_correct = ' '.join(new_words)        \n",
    "    new_review.append(sentence_correct)\n",
    "    #df['FIXED_REVIEW'][j] = sentence_correct\n",
    "    j+=1\n",
    "\n",
    "\n",
    "df['FIXED_REVIEW'] = new_review"
   ]
  },
  {
   "cell_type": "code",
   "execution_count": 17,
   "id": "49c8800b",
   "metadata": {},
   "outputs": [
    {
     "name": "stdout",
     "output_type": "stream",
     "text": [
      "0    terrible bad special worthy terrible good litt...\n",
      "1                              less great exciting bad\n",
      "2    great worst wealthy victim great cheap great c...\n",
      "3    great everyday ordinary certain real bloody ki...\n",
      "4               terrible wide first much much terrible\n",
      "Name: FIXED_REVIEW, dtype: object\n"
     ]
    }
   ],
   "source": [
    "print(df['FIXED_REVIEW'].head())"
   ]
  },
  {
   "cell_type": "markdown",
   "id": "b0a138e5",
   "metadata": {},
   "source": [
    "# Add our target (ie: class)"
   ]
  },
  {
   "cell_type": "code",
   "execution_count": 18,
   "id": "0030848a",
   "metadata": {},
   "outputs": [],
   "source": [
    "def label_race(row):\n",
    "    if row['RATING'] >= 6:\n",
    "        return 1\n",
    "    if row['RATING'] <= 5:\n",
    "        return 0\n",
    "\n",
    "df['CLASS'] = df.apply(label_race, axis=1) "
   ]
  },
  {
   "cell_type": "code",
   "execution_count": 19,
   "id": "e1bc21a4",
   "metadata": {},
   "outputs": [
    {
     "name": "stdout",
     "output_type": "stream",
     "text": [
      "0    2736\n",
      "1    2568\n",
      "Name: CLASS, dtype: int64\n"
     ]
    }
   ],
   "source": [
    "print(df['CLASS'].value_counts())"
   ]
  },
  {
   "cell_type": "markdown",
   "id": "fc910a43",
   "metadata": {},
   "source": [
    "# Add sentiment as column (can add more)"
   ]
  },
  {
   "cell_type": "code",
   "execution_count": 20,
   "id": "807aaf04",
   "metadata": {},
   "outputs": [],
   "source": [
    "# Calculate Sentiment Score with TextBlob\n",
    "def get_sentiment_1(text):\n",
    "    return TextBlob(text).sentiment.polarity \n",
    "df['sentiment_1'] = df['FIXED_REVIEW'].apply(get_sentiment_1)"
   ]
  },
  {
   "cell_type": "code",
   "execution_count": 21,
   "id": "32efd4bf",
   "metadata": {},
   "outputs": [],
   "source": [
    "analyzer = SentimentIntensityAnalyzer()\n",
    "\n",
    "def vader_sentiment(text):\n",
    "    sentiment_score = analyzer.polarity_scores(text)\n",
    "    compound_score = sentiment_score['compound']\n",
    "    \n",
    "    return compound_score\n",
    "\n",
    "def vader_class(text):\n",
    "    sentiment_score = analyzer.polarity_scores(text)\n",
    "    compound_score = sentiment_score['compound']\n",
    "    \n",
    "    if compound_score > 0.1:\n",
    "        sentiment = 2\n",
    "    elif compound_score < -0.1:\n",
    "        sentiment = 0\n",
    "    else:\n",
    "        sentiment = 1\n",
    "    \n",
    "    return sentiment"
   ]
  },
  {
   "cell_type": "code",
   "execution_count": 22,
   "id": "3ddc8759",
   "metadata": {},
   "outputs": [],
   "source": [
    "df['vader_sentiment'] = df['FIXED_REVIEW'].apply(vader_sentiment)\n",
    "df['vader_class'] = df['FIXED_REVIEW'].apply(vader_class)"
   ]
  },
  {
   "cell_type": "code",
   "execution_count": 23,
   "id": "8cdfeb65",
   "metadata": {},
   "outputs": [
    {
     "name": "stdout",
     "output_type": "stream",
     "text": [
      "   sentiment_1  vader_sentiment  vader_class\n",
      "0    -0.299669          -0.8036            0\n",
      "1     0.058333           0.5412            2\n",
      "2     0.321807           0.9839            2\n",
      "3    -0.021337           0.9133            2\n",
      "4    -0.462500          -0.7351            0\n"
     ]
    }
   ],
   "source": [
    "print(df[['sentiment_1', 'vader_sentiment', 'vader_class']].head())"
   ]
  },
  {
   "cell_type": "markdown",
   "id": "e242c44f",
   "metadata": {},
   "source": [
    "# Add a tokenized column for topics"
   ]
  },
  {
   "cell_type": "code",
   "execution_count": null,
   "id": "6a6f8854",
   "metadata": {},
   "outputs": [],
   "source": []
  },
  {
   "cell_type": "code",
   "execution_count": 24,
   "id": "d7c5926d",
   "metadata": {},
   "outputs": [],
   "source": [
    "df['tokenized_review'] = df['FIXED_REVIEW'].apply(word_tokenize)"
   ]
  },
  {
   "cell_type": "code",
   "execution_count": 25,
   "id": "d730fea8",
   "metadata": {},
   "outputs": [
    {
     "name": "stdout",
     "output_type": "stream",
     "text": [
      "0    [terrible, bad, special, worthy, terrible, goo...\n",
      "1                         [less, great, exciting, bad]\n",
      "2    [great, worst, wealthy, victim, great, cheap, ...\n",
      "3    [great, everyday, ordinary, certain, real, blo...\n",
      "4        [terrible, wide, first, much, much, terrible]\n",
      "Name: tokenized_review, dtype: object\n"
     ]
    }
   ],
   "source": [
    "print(df['tokenized_review'].head())"
   ]
  },
  {
   "cell_type": "markdown",
   "id": "149ff2ce",
   "metadata": {},
   "source": [
    "# Now use LDA for topics, gives additional context (may need to optimise how many topics"
   ]
  },
  {
   "cell_type": "code",
   "execution_count": null,
   "id": "0aa3ea9b",
   "metadata": {},
   "outputs": [],
   "source": []
  },
  {
   "cell_type": "code",
   "execution_count": 26,
   "id": "12d52915",
   "metadata": {},
   "outputs": [],
   "source": [
    "dictionary = corpora.Dictionary(df['tokenized_review'])\n",
    "corpus = [dictionary.doc2bow(text) for text in df['tokenized_review']]"
   ]
  },
  {
   "cell_type": "code",
   "execution_count": 27,
   "id": "0d45584d",
   "metadata": {},
   "outputs": [],
   "source": [
    "num_topics=20\n",
    "lda_model = LdaModel(corpus=corpus, id2word=dictionary, num_topics=num_topics, passes=20, alpha=\"auto\")"
   ]
  },
  {
   "cell_type": "code",
   "execution_count": 28,
   "id": "95129f9b",
   "metadata": {},
   "outputs": [],
   "source": [
    "topic_distributions = [lda_model.get_document_topics(doc) for doc in corpus]"
   ]
  },
  {
   "cell_type": "code",
   "execution_count": 29,
   "id": "32d479e4",
   "metadata": {},
   "outputs": [],
   "source": [
    "topic_matrix = []\n",
    "for dist in topic_distributions:\n",
    "    topic_vector = [0] * num_topics  # Number of topics (in this case 2)\n",
    "    for topic_id, prob in dist:\n",
    "        topic_vector[topic_id] = prob\n",
    "    topic_matrix.append(topic_vector)\n",
    "\n",
    "# Convert topic_matrix to a DataFrame for easy handling\n",
    "topic_df = pd.DataFrame(topic_matrix, columns=[f\"topic_{i+1}\" for i in range(num_topics)])"
   ]
  },
  {
   "cell_type": "code",
   "execution_count": 30,
   "id": "2fd3a67e",
   "metadata": {},
   "outputs": [],
   "source": [
    "df = pd.concat([df, topic_df], axis=1)\n",
    "df = df.dropna()"
   ]
  },
  {
   "cell_type": "code",
   "execution_count": 31,
   "id": "1e7d7199",
   "metadata": {},
   "outputs": [
    {
     "data": {
      "text/html": [
       "<div>\n",
       "<style scoped>\n",
       "    .dataframe tbody tr th:only-of-type {\n",
       "        vertical-align: middle;\n",
       "    }\n",
       "\n",
       "    .dataframe tbody tr th {\n",
       "        vertical-align: top;\n",
       "    }\n",
       "\n",
       "    .dataframe thead th {\n",
       "        text-align: right;\n",
       "    }\n",
       "</style>\n",
       "<table border=\"1\" class=\"dataframe\">\n",
       "  <thead>\n",
       "    <tr style=\"text-align: right;\">\n",
       "      <th></th>\n",
       "      <th>ID</th>\n",
       "      <th>REVIEW</th>\n",
       "      <th>RATING</th>\n",
       "      <th>AUTHOR</th>\n",
       "      <th>TITLE</th>\n",
       "      <th>FIXED_REVIEW</th>\n",
       "      <th>CLASS</th>\n",
       "      <th>sentiment_1</th>\n",
       "      <th>vader_sentiment</th>\n",
       "      <th>vader_class</th>\n",
       "      <th>...</th>\n",
       "      <th>topic_11</th>\n",
       "      <th>topic_12</th>\n",
       "      <th>topic_13</th>\n",
       "      <th>topic_14</th>\n",
       "      <th>topic_15</th>\n",
       "      <th>topic_16</th>\n",
       "      <th>topic_17</th>\n",
       "      <th>topic_18</th>\n",
       "      <th>topic_19</th>\n",
       "      <th>topic_20</th>\n",
       "    </tr>\n",
       "  </thead>\n",
       "  <tbody>\n",
       "    <tr>\n",
       "      <th>0</th>\n",
       "      <td>1.0</td>\n",
       "      <td>I don't get all the terrible reviews for this ...</td>\n",
       "      <td>5.0</td>\n",
       "      <td>margarida-44311</td>\n",
       "      <td>Not Bad\\n</td>\n",
       "      <td>terrible bad special worthy terrible good litt...</td>\n",
       "      <td>0.0</td>\n",
       "      <td>-0.299669</td>\n",
       "      <td>-0.8036</td>\n",
       "      <td>0.0</td>\n",
       "      <td>...</td>\n",
       "      <td>0.000000</td>\n",
       "      <td>0.211846</td>\n",
       "      <td>0.000000</td>\n",
       "      <td>0.000000</td>\n",
       "      <td>0.000000</td>\n",
       "      <td>0.000000</td>\n",
       "      <td>0.000000</td>\n",
       "      <td>0.118986</td>\n",
       "      <td>0.010001</td>\n",
       "      <td>0.000000</td>\n",
       "    </tr>\n",
       "    <tr>\n",
       "      <th>1</th>\n",
       "      <td>2.0</td>\n",
       "      <td>I cannot believe anyone could give this film l...</td>\n",
       "      <td>8.0</td>\n",
       "      <td>joemay-2</td>\n",
       "      <td>What are all the bad reviews about is it a wo...</td>\n",
       "      <td>less great exciting bad</td>\n",
       "      <td>1.0</td>\n",
       "      <td>0.058333</td>\n",
       "      <td>0.5412</td>\n",
       "      <td>2.0</td>\n",
       "      <td>...</td>\n",
       "      <td>0.018496</td>\n",
       "      <td>0.202579</td>\n",
       "      <td>0.010447</td>\n",
       "      <td>0.189568</td>\n",
       "      <td>0.014663</td>\n",
       "      <td>0.016343</td>\n",
       "      <td>0.012746</td>\n",
       "      <td>0.014655</td>\n",
       "      <td>0.018662</td>\n",
       "      <td>0.013644</td>\n",
       "    </tr>\n",
       "    <tr>\n",
       "      <th>2</th>\n",
       "      <td>3.0</td>\n",
       "      <td>Great White is not the worst way to spend 90 m...</td>\n",
       "      <td>4.0</td>\n",
       "      <td>nebk</td>\n",
       "      <td>Great White=Jaws Lite\\n</td>\n",
       "      <td>great worst wealthy victim great cheap great c...</td>\n",
       "      <td>0.0</td>\n",
       "      <td>0.321807</td>\n",
       "      <td>0.9839</td>\n",
       "      <td>2.0</td>\n",
       "      <td>...</td>\n",
       "      <td>0.196241</td>\n",
       "      <td>0.000000</td>\n",
       "      <td>0.000000</td>\n",
       "      <td>0.125747</td>\n",
       "      <td>0.000000</td>\n",
       "      <td>0.000000</td>\n",
       "      <td>0.043466</td>\n",
       "      <td>0.000000</td>\n",
       "      <td>0.000000</td>\n",
       "      <td>0.000000</td>\n",
       "    </tr>\n",
       "    <tr>\n",
       "      <th>3</th>\n",
       "      <td>4.0</td>\n",
       "      <td>Great White is as basic of a killer shark film...</td>\n",
       "      <td>4.0</td>\n",
       "      <td>kuarinofu</td>\n",
       "      <td>Bare-bones killer shark film\\n</td>\n",
       "      <td>great everyday ordinary certain real bloody ki...</td>\n",
       "      <td>0.0</td>\n",
       "      <td>-0.021337</td>\n",
       "      <td>0.9133</td>\n",
       "      <td>2.0</td>\n",
       "      <td>...</td>\n",
       "      <td>0.000000</td>\n",
       "      <td>0.141795</td>\n",
       "      <td>0.000000</td>\n",
       "      <td>0.000000</td>\n",
       "      <td>0.000000</td>\n",
       "      <td>0.094978</td>\n",
       "      <td>0.073603</td>\n",
       "      <td>0.335321</td>\n",
       "      <td>0.000000</td>\n",
       "      <td>0.149103</td>\n",
       "    </tr>\n",
       "    <tr>\n",
       "      <th>4</th>\n",
       "      <td>5.0</td>\n",
       "      <td>Terrible story, dialogue and CGI. The film has...</td>\n",
       "      <td>4.0</td>\n",
       "      <td>Horror_Flick_Fanatic</td>\n",
       "      <td>Terrible story, dialogue, and CGI\\n</td>\n",
       "      <td>terrible wide first much much terrible</td>\n",
       "      <td>0.0</td>\n",
       "      <td>-0.462500</td>\n",
       "      <td>-0.7351</td>\n",
       "      <td>0.0</td>\n",
       "      <td>...</td>\n",
       "      <td>0.255461</td>\n",
       "      <td>0.021809</td>\n",
       "      <td>0.000000</td>\n",
       "      <td>0.012122</td>\n",
       "      <td>0.154955</td>\n",
       "      <td>0.012138</td>\n",
       "      <td>0.000000</td>\n",
       "      <td>0.010884</td>\n",
       "      <td>0.013860</td>\n",
       "      <td>0.010133</td>\n",
       "    </tr>\n",
       "  </tbody>\n",
       "</table>\n",
       "<p>5 rows × 31 columns</p>\n",
       "</div>"
      ],
      "text/plain": [
       "    ID                                             REVIEW  RATING  \\\n",
       "0  1.0  I don't get all the terrible reviews for this ...     5.0   \n",
       "1  2.0  I cannot believe anyone could give this film l...     8.0   \n",
       "2  3.0  Great White is not the worst way to spend 90 m...     4.0   \n",
       "3  4.0  Great White is as basic of a killer shark film...     4.0   \n",
       "4  5.0  Terrible story, dialogue and CGI. The film has...     4.0   \n",
       "\n",
       "                 AUTHOR                                              TITLE  \\\n",
       "0       margarida-44311                                          Not Bad\\n   \n",
       "1              joemay-2   What are all the bad reviews about is it a wo...   \n",
       "2                  nebk                            Great White=Jaws Lite\\n   \n",
       "3             kuarinofu                     Bare-bones killer shark film\\n   \n",
       "4  Horror_Flick_Fanatic                Terrible story, dialogue, and CGI\\n   \n",
       "\n",
       "                                        FIXED_REVIEW  CLASS  sentiment_1  \\\n",
       "0  terrible bad special worthy terrible good litt...    0.0    -0.299669   \n",
       "1                            less great exciting bad    1.0     0.058333   \n",
       "2  great worst wealthy victim great cheap great c...    0.0     0.321807   \n",
       "3  great everyday ordinary certain real bloody ki...    0.0    -0.021337   \n",
       "4             terrible wide first much much terrible    0.0    -0.462500   \n",
       "\n",
       "   vader_sentiment  vader_class  ...  topic_11  topic_12  topic_13  topic_14  \\\n",
       "0          -0.8036          0.0  ...  0.000000  0.211846  0.000000  0.000000   \n",
       "1           0.5412          2.0  ...  0.018496  0.202579  0.010447  0.189568   \n",
       "2           0.9839          2.0  ...  0.196241  0.000000  0.000000  0.125747   \n",
       "3           0.9133          2.0  ...  0.000000  0.141795  0.000000  0.000000   \n",
       "4          -0.7351          0.0  ...  0.255461  0.021809  0.000000  0.012122   \n",
       "\n",
       "   topic_15  topic_16  topic_17  topic_18  topic_19  topic_20  \n",
       "0  0.000000  0.000000  0.000000  0.118986  0.010001  0.000000  \n",
       "1  0.014663  0.016343  0.012746  0.014655  0.018662  0.013644  \n",
       "2  0.000000  0.000000  0.043466  0.000000  0.000000  0.000000  \n",
       "3  0.000000  0.094978  0.073603  0.335321  0.000000  0.149103  \n",
       "4  0.154955  0.012138  0.000000  0.010884  0.013860  0.010133  \n",
       "\n",
       "[5 rows x 31 columns]"
      ]
     },
     "execution_count": 31,
     "metadata": {},
     "output_type": "execute_result"
    }
   ],
   "source": [
    "df.head()"
   ]
  },
  {
   "cell_type": "markdown",
   "id": "fe0ee84b",
   "metadata": {},
   "source": [
    "# Now BOW with tf idf"
   ]
  },
  {
   "cell_type": "code",
   "execution_count": 32,
   "id": "d457eeb0",
   "metadata": {},
   "outputs": [],
   "source": [
    "from sklearn.feature_extraction.text import TfidfVectorizer\n",
    "import pandas as pd\n",
    "\n",
    "tfidf_vectorizer = TfidfVectorizer(ngram_range=(1, 2), max_features=10000)"
   ]
  },
  {
   "cell_type": "code",
   "execution_count": 33,
   "id": "596da57e",
   "metadata": {},
   "outputs": [],
   "source": [
    "tfidf_matrix = tfidf_vectorizer.fit_transform(df['FIXED_REVIEW'])\n",
    "\n",
    "tfidf_df = pd.DataFrame.sparse.from_spmatrix(\n",
    "    tfidf_matrix,\n",
    "    columns=tfidf_vectorizer.get_feature_names_out()\n",
    ")"
   ]
  },
  {
   "cell_type": "code",
   "execution_count": 34,
   "id": "bc140126",
   "metadata": {},
   "outputs": [],
   "source": [
    "df = pd.concat([df.reset_index(drop=True), tfidf_df.reset_index(drop=True)], axis=1)"
   ]
  },
  {
   "cell_type": "code",
   "execution_count": 35,
   "id": "6618412f",
   "metadata": {},
   "outputs": [],
   "source": [
    "df = df.drop(columns=['ID', 'RATING', 'REVIEW', 'TITLE'], errors='ignore')"
   ]
  },
  {
   "cell_type": "code",
   "execution_count": 36,
   "id": "5712c72b",
   "metadata": {},
   "outputs": [],
   "source": [
    "df = df.dropna()"
   ]
  },
  {
   "cell_type": "code",
   "execution_count": 37,
   "id": "a45fa6ab",
   "metadata": {},
   "outputs": [
    {
     "data": {
      "text/plain": [
       "(5187, 10027)"
      ]
     },
     "execution_count": 37,
     "metadata": {},
     "output_type": "execute_result"
    }
   ],
   "source": [
    "df.shape"
   ]
  },
  {
   "cell_type": "markdown",
   "id": "a4a55a36",
   "metadata": {},
   "source": [
    "# Save data"
   ]
  },
  {
   "cell_type": "code",
   "execution_count": 38,
   "id": "4f773b7e",
   "metadata": {},
   "outputs": [],
   "source": [
    "#df.to_csv('preprocessed_data.csv')"
   ]
  },
  {
   "cell_type": "markdown",
   "id": "b1d7df82",
   "metadata": {},
   "source": [
    "# Using the data in models"
   ]
  },
  {
   "cell_type": "code",
   "execution_count": 39,
   "id": "2aff3873",
   "metadata": {},
   "outputs": [],
   "source": [
    "X = df.drop(columns = ['CLASS', 'AUTHOR','FIXED_REVIEW','tokenized_review'])\n",
    "y = df['CLASS']"
   ]
  },
  {
   "cell_type": "markdown",
   "id": "67b0c41f",
   "metadata": {},
   "source": [
    "# Feature Selection: RFE Method"
   ]
  },
  {
   "cell_type": "code",
   "execution_count": 40,
   "id": "97b8a746",
   "metadata": {},
   "outputs": [
    {
     "name": "stdout",
     "output_type": "stream",
     "text": [
      "Selected Features (Random Forest): ['vader_sentiment', 'sentiment_1', 'vader_class', 'topic_12', 'great', 'topic_5', 'topic_6', 'topic_19', 'good', 'waste', 'bad', 'topic_16', 'topic_11', 'topic_14', 'topic_18', 'topic_15', 'topic_20', 'topic_17', 'topic_1', 'topic_8', 'topic_10', 'amazing', 'boring', 'topic_13', 'topic_9', 'topic_3', 'topic_7', 'topic_4', 'best', 'terrible', 'topic_2', 'love', 'perfect', 'worst', 'really', 'beautiful', 'excellent', 'better', 'little', 'enjoyable', 'poor', 'fun', 'real', 'much', 'awful', 'horrible', 'enjoy', 'funny', 'stupid', 'first', 'many', 'nice', 'wonderful', 'action', 'worth', 'black', 'new', 'mess', 'worse', 'kind', 'mean', 'original', 'poorly', 'powerful', 'long', 'pretty', 'brilliant', 'true', 'decent', 'awesome', 'sure', 'old', 'highly', 'negative', 'half', 'wasted', 'least', 'right', 'young', 'slow', 'pointless', 'hard', 'dumb', 'whole', 'fantastic', 'dull', 'main', 'really good', 'good great', 'mediocre', 'lame', 'past', 'far', 'fine', 'laugh', 'flat', 'less', 'superb', 'perfectly', 'single', 'cheap', 'wrong', 'good good', 'hate', 'bland', 'complete', 'rose', 'sorry', 'annoying', 'average', 'much better', 'classic', 'super', 'fly', 'top', 'important', 'high', 'bad bad', 'able', 'sad', 'live', 'great great', 'huge', 'special', 'unique', 'realistic', 'forced', 'full', 'behind', 'weak', 'cute', 'win', 'lazy', 'flawed', 'typical', 'sadly', 'seriously', 'badly', 'engaging', 'happy', 'pretty good', 'honestly', 'easy', 'higher', 'strong', 'easily', 'sound', 'raw', 'bad good', 'certain', 'military', 'exactly', 'subject', 'good bad', 'silly', 'brutal', 'clearly', 'crazy', 'plain', 'mostly', 'cool', 'weird', 'certainly', 'modern', 'usual', 'illegal', 'scary', 'extremely', 'difficult', 'really bad', 'honest', 'small', 'touching', 'crap', 'spent', 'straight', 'cheese', 'love love', 'worthy', 'fresh', 'really great', 'light', 'fast', 'positive', 'serious', 'favorite', 'fit', 'late', 'social', 'major', 'glad', 'absolute', 'early', 'great really', 'intense', 'dark', 'missing', 'dead', 'broken', 'game', 'thanks', 'sick', 'random', 'excited', 'wow', 'criminal', 'barely', 'fair', 'hidden', 'sweet', 'clear', 'near', 'great good', 'good really', 'adult', 'atrocious', 'stunning', 'common', 'great bad', 'ill', 'strange', 'due', 'quickly', 'epic', 'clever', 'nearly', 'comic', 'action action', 'good first', 'little little', 'really really', 'thrilling', 'usually', 'good action', 'good better', 'victim', 'general', 'excuse', 'creative', 'exciting', 'relevant', 'limited', 'tough', 'genuine', 'lucky', 'loose', 'good much', 'smart', 'previous', 'filled', 'pure', 'evil', 'pretty much', 'complaint', 'inspiring', 'action good', 'talented', 'charming', 'odd', 'alien', 'better much', 'mad', 'dramatic', 'gory', 'tragic', 'fake', 'gorgeous', 'cold', 'bloody', 'much good', 'afraid', 'tedious', 'nicely', 'gripping', 'laughable', 'mental', 'drag', 'shocking', 'rare', 'tired', 'amazing amazing', 'becoming', 'amateur', 'bad hate', 'bad really', 'angry', 'best best', 'fairly', 'secret', 'green', 'rich', 'familiar', 'complex', 'absurd', 'insane', 'hilarious', 'first half', 'good kind', 'better good', 'free', 'painful', 'great much', 'black black', 'genuinely', 'shallow', 'much really', 'pathetic', 'good old', 'creepy', 'dry', 'confused', 'ready', 'best great', 'rarely', 'lovely', 'hot', 'large', 'magic', 'empty', 'first really', 'good best', 'minus', 'good decent', 'slightly', 'bad great', 'sexual', 'great better', 'long really', 'bold', 'slowly', 'subtle', 'many many', 'heavy', 'action great', 'better many', 'great amazing', 'tense', 'main good', 'trouble', 'normal', 'suitable', 'seasoned', 'trapped', 'loud', 'much great', 'destroy', 'older', 'latest', 'direct', 'memorable', 'unable', 'thin', 'harsh', 'terribly', 'painfully', 'authentic', 'really much', 'exact', 'grand', 'better better', 'alive', 'really first', 'intimate', 'first good', 'great action', 'really kind', 'childish', 'idiot', 'effective', 'wide', 'good real', 'desperate', 'violent', 'distant', 'much much', 'center', 'really love', 'generally', 'bad action', 'dreadful', 'waste bad', 'liable', 'decent good', 'boring boring', 'pretty bad', 'smile', 'love great', 'endless', 'drunk', 'better great', 'awfully', 'forced much', 'everyday', 'worth good', 'real good', 'sharp', 'really enjoy', 'super bad', 'fluff', 'really better', 'awkward', 'much less', 'sure great', 'best long', 'terrible bad', 'false', 'wise', 'down', 'good fun', 'really poor', 'artistic', 'winning', 'pretty sure', 'loving', 'great weak', 'right really', 'good little', 'slow slow', 'mainly', 'horribly', 'promising', 'ugly', 'good poorly', 'cultural', 'funny laugh', 'gay', 'bad pretty', 'love many', 'dangerous', 'joy', 'many really', 'many great', 'full action', 'extreme', 'willing', 'accurate', 'good love', 'much many', 'fun good', 'new first', 'good laugh', 'warm', 'crushed', 'amazingly', 'devoid', 'precious', 'far good', 'good pretty', 'good worth', 'huge good', 'dull boring', 'little boring', 'sure much', 'really negative', 'shaky', 'bad worst', 'best good', 'addicted', 'best far', 'amazing really', 'many bad', 'really main', 'sure love', 'messy', 'good long', 'laugh good', 'bad real', 'fail', 'bizarre', 'normally', 'really sure', 'minor', 'little slow', 'naive', 'really many', 'much sure', 'mindless', 'little better', 'first many', 'action much', 'great long', 'wet', 'action really', 'fun fun', 'married', 'least really', 'real sad', 'sinister', 'great little', 'wrong dead', 'good least', 'much real', 'first great', 'good poor', 'little really', 'nasty', 'base', 'little great', 'many better', 'wrong great', 'average action', 'bad funny', 'great special', 'gruesome', 'grey', 'first better', 'love action', 'bad waste', 'funny good', 'insulting', 'unlikely', 'worst tragic', 'love much', 'idiotic', 'worthless', 'first bad', 'famous', 'frequent', 'stellar', 'real really', 'good new', 'vaguely', 'young adult', 'riveting', 'really hard', 'great best', 'idiotic old', 'new good', 'better true', 'bad enjoy', 'blatant', 'cow', 'old new', 'good many', 'strongly', 'much love', 'love hate', 'best much', 'forced good', 'really waste', 'much little', 'half half', 'new bad', 'really slow', 'beloved', 'love good', 'little good', 'many good', 'masterful', 'wrong really', 'many much', 'action better', 'great main', 'best worst', 'mean good', 'high little', 'kind modern', 'round', 'capable', 'real best', 'loosely', 'first first', 'great horrible', 'good original', 'mediocre action', 'great wonderful', 'great first', 'really fun', 'real bad', 'much main', 'long good', 'decent action', 'competent', 'kind bad', 'nice good', 'whole great', 'crisp', 'chilling', 'half good', 'worse higher', 'long great', 'black kind', 'appalling', 'failure', 'wild', 'powerful good', 'rank', 'better bad', 'hardly', 'boring great', 'fitting', 'aware', 'quick', 'grief', 'poor really', 'much hate', 'mean great', 'stylish', 'pregnant', 'ordinary', 'vague', 'best better', 'major missing', 'really pretty', 'really sad', 'slight', 'mean really', 'pleasant', 'infamous', 'faint', 'hard much', 'popular', 'less little', 'far better', 'heavily', 'little many', 'best bad', 'adequate', 'whole really', 'worthy beautiful', 'boring annoying', 'great waste', 'really little', 'good wrong', 'evil good', 'really strong', 'spoof', 'funny real', 'great decent', 'success', 'really new', 'perfect perfect', 'right first', 'old bad', 'profound', 'much fun', 'gifted', 'good perfect', 'new new', 'new old', 'bad perfectly', 'firstly', 'good worst', 'better funny', 'good terrible', 'horrific', 'great beautiful', 'love long', 'wisely', 'unknown', 'new better', 'barely really', 'happily', 'real real', 'many little', 'lately', 'better best', 'pity', 'genuine sad', 'first angry', 'action bad', 'little long', 'twisted', 'honest really', 'action boring', 'guilty', 'waste good', 'original great', 'best true', 'much action', 'hollow', 'much pretty', 'sloppy', 'canal', 'bad much', 'much right', 'useless', 'terrible terrible', 'little bad', 'action bland', 'good nice', 'surely', 'near good', 'sure real', 'great sadly', 'great boring', 'innocent', 'kind flat', 'really original', 'stale', 'bad decent', 'great wrong', 'minus wide', 'boring really', 'hate bad', 'funny great', 'really action', 'much certainly', 'fake top', 'ready love', 'brightly', 'worst first', 'little much', 'light true', 'choppy', 'calm', 'old good', 'great worth', 'sincere', 'really exciting', 'much slow', 'whole best', 'perfect good', 'good negative', 'clean', 'many black', 'skeptical', 'safe', 'great half', 'plausible', 'great cool', 'better original', 'high mostly', 'farce', 'original bad', 'many best', 'young thanks', 'bad worth', 'arrest', 'young great', 'love first', 'good slow', 'bad right', 'awesome better', 'lousy', 'splendid', 'really whole', 'stupid fun', 'action kind', 'heroic', 'good usual', 'sad right', 'curious', 'great true', 'least great', 'terrible good', 'poor action', 'beautiful beautiful', 'much wrong', 'flawless', 'wrong seriously', 'edgy', 'full great', 'soft', 'whole good', 'love really', 'pure evil', 'good black', 'enjoy bad', 'bad boring', 'love real', 'enjoy good', 'slow boring', 'goofy', 'crushed good', 'good half', 'really best', 'long boring', 'excited great', 'horrible little', 'witty', 'cleverly', 'really long', 'worth bad', 'action pretty', 'missing complete', 'humorous', 'fabulous', 'dirty', 'bad love', 'right good', 'sticker', 'old original', 'real far', 'love amazing', 'nice great', 'mentally', 'game good', 'love live', 'much half', 'ill better', 'new original', 'bootleg', 'much mess', 'credible', 'ingenious', 'decent better', 'worst waste', 'bright', 'anger', 'good powerful', 'amusing', 'real love', 'really perfect', 'enjoy much', 'high first', 'single sure', 'elaborate', 'stupidity', 'stumble', 'bad least', 'sadly good', 'cheese bad', 'random evil', 'right long', 'little perfect', 'seriously important', 'perfect typical', 'past hidden', 'high high', 'really real', 'love worth', 'first decent', 'boring special', 'great black', 'action best', 'action many', 'good fair', 'excited favorite', 'love wrong', 'padding', 'much important', 'action ill', 'juvenile', 'brave', 'elegant', 'sure good', 'poorly great', 'really full', 'love highly', 'boring easily', 'new action', 'nice beautiful', 'good lazy', 'best love', 'golden', 'illegal illegal', 'slow waste', 'rewarding', 'far best', 'available', 'better right', 'main near', 'best waste', 'logical', 'closed', 'high boring', 'little action', 'waste better', 'good fly', 'hard great', 'good sure', 'first becoming', 'original good', 'little real', 'special good', 'good silly', 'clearly action', 'beautiful really', 'cruel', 'slow little', 'great terrible', 'slightly better', 'right many', 'bad better', 'sober', 'natural', 'good funny', 'long first', 'easily better', 'good mean', 'full good', 'painfully crisp', 'true first', 'mediocre best', 'perfect fabulous', 'whole kind', 'cool cool', 'super drunk', 'preach', 'great funny', 'pretty decent', 'cool really', 'subject important', 'fine good', 'nostalgic', 'active', 'good whole', 'black long', 'better long', 'purely', 'socially', 'waste great', 'great real', 'good special', 'excellent least', 'nice high', 'enjoy waste', 'really boring', 'high much', 'really nice', 'cool good', 'fun original', 'near bad', 'easily good', 'funny sure', 'hate love', 'bad best', 'excited love', 'many kind', 'great love', 'real original', 'better really', 'much far', 'blind', 'slow bad', 'near ill', 'much amazing', 'good excellent', 'really terrible', 'bad less', 'good main', 'good hard', 'really painful', 'grim', 'sure strong', 'stylish social', 'selfish', 'long much', 'boring good', 'less least', 'steady', 'less great', 'much perfect', 'really cool', 'really half', 'thanks love', 'good beautiful', 'bad main', 'great past', 'great enjoy', 'great slow', 'nice light', 'worth right', 'good wow', 'highly least', 'slow main', 'legendary', 'tired little', 'friendly', 'awful awful', 'favorite good', 'much whole', 'favorite excited', 'mean black', 'action hard', 'far original', 'mature', 'small true', 'first sure', 'good enjoyable', 'much bad', 'better certainly', 'past enjoy', 'true really', 'old great', 'whole love', 'special many', 'perfect main', 'long long', 'specially', 'worth love', 'right great', 'good top', 'hard easily', 'wrong decent', 'great fair', 'better dull', 'limp', 'slow late', 'slow worth', 'important good', 'best really', 'wacky', 'dead really', 'little black', 'first little', 'great adult', 'useful', 'fly good', 'black afraid', 'certain new', 'first mean', 'main pretty', 'past best', 'kind much', 'much best', 'pretty bland', 'painful credible', 'little less', 'fun laugh', 'iconic', 'great usual', 'really fit', 'worth much', 'good flat', 'odd strange', 'quickly love', 'old old', 'exquisite', 'strange really', 'decent waste', 'usually first', 'good horrible', 'handsome', 'honestly good', 'main really', 'old tiresome', 'long sure', 'laugh better', 'behind good', 'original much', 'new young', 'new great', 'better complex', 'love less', 'real pretty', 'careful', 'average really', 'poetic', 'typical action', 'win best', 'negative really', 'actively', 'sure wonderful', 'really quickly', 'waste waste', 'padding typical', 'wrong lucky', 'funny original', 'weak really', 'hard old', 'main less', 'weak new', 'high action', 'awesome great', 'tough black', 'better new', 'nicely good', 'full negative', 'powerful old', 'harshly', 'perfect little', 'decent worth', 'terrible really', 'black easily', 'comical', 'alien bad', 'typical decent', 'much fine', 'genuine really', 'great quickly', 'good far', 'bad special', 'raw real', 'good pointless', 'funny funny', 'sound fun', 'blatant slow', 'sound honest', 'funny rare', 'hard top', 'secretly', 'poor poor', 'weak good', 'half original', 'great dull', 'many high', 'black really', 'true mean', 'love kind', 'much subject', 'love best', 'little right', 'slow really', 'secondary', 'needless', 'sure really', 'funny bad', 'real action', 'fun slightly', 'real perfect', 'realistic realistic', 'worth great', 'enjoyable action', 'weird kind', 'comic forced', 'negative long', 'bad game', 'good sad', 'best little', 'live best', 'fly little', 'better worst', 'first much', 'great mean', 'past evil', 'right wrong', 'good awfully', 'poetic boring', 'sure least', 'top great', 'favorite really', 'special worth', 'fun wrong', 'original new', 'good unique', 'naturally', 'half really', 'sad great', 'dead bad', 'original really', 'pure pure', 'original many', 'love original', 'half enjoy', 'awesome strange', 'apparent', 'pretty annoying', 'action whole', 'legal', 'original better', 'main better', 'greater', 'good young', 'good less', 'fly fly', 'black real', 'huge bad', 'young old', 'better perfect', 'better worth', 'many cheap', 'love perfect', 'least kind', 'worth best', 'true many', 'worth worthy', 'less new', 'far bad', 'awful good', 'nicely bad', 'funny sorry', 'coherent really', 'really enjoyable', 'laugh loud', 'fair first', 'main many', 'much kind', 'fun many', 'past angry', 'fun enjoy', 'whole funny', 'waste much', 'kind enjoyable', 'far great', 'first best', 'easy really', 'long beautiful', 'many first', 'mad high', 'much thanks', 'fast action', 'enjoy long', 'whole black', 'avid', 'good boring', 'good true', 'carefully', 'really mental', 'great loud', 'uneven', 'right previous', 'funny wrong', 'sure full', 'better kind', 'fine fine', 'high long', 'many original', 'better first', 'really amazing', 'vaguely heroic', 'sure sure', 'unusual', 'much terribly', 'marvelous', 'action love', 'terribly confused', 'better pretty', 'funny stupid', 'many far', 'awkwardly', 'whole absolute', 'less decent', 'really hate', 'missing good', 'really right', 'good easily', 'cheap great', 'typically', 'best original', 'great mediocre', 'kind first', 'good mediocre', 'prominent', 'less less', 'new pretty', 'action poorly', 'main much', 'first pretty', 'best past', 'mostly grand', 'slow long', 'little gay', 'sad true', 'best sure', 'whole much', 'mildly', 'gory fun', 'original casually', 'cool old', 'stupid winning', 'many past', 'movable', 'jail', 'good enjoy', 'magically', 'flawed good', 'many boring', 'full best', 'mean real', 'slow action', 'magical', 'hate better', 'becoming really', 'worse waste', 'real hate', 'usually better', 'half many', 'right right', 'long better', 'sound good', 'half decent', 'whole mean', 'young best', 'late slow', 'boring terrible', 'modern sinister', 'cheese much', 'perfect really', 'action first', 'exactly little', 'mediocre little', 'hot mess', 'good major', 'pretty little', 'young plain', 'highly real', 'pretty great', 'action fine', 'bad wrong', 'tiresome strong', 'important new', 'awesome action', 'black right', 'bitterly', 'high really', 'first new', 'sure hate', 'negative capable', 'full bad', 'sorry love', 'much free', 'waste free', 'really weird', 'great fun', 'nice first', 'typical tired', 'love super', 'really light', 'harder', 'right kind', 'usual good', 'fun really', 'dreadful mess', 'really drag', 'better loose', 'average best', 'fantastic funny', 'less really', 'suitable fun', 'healthy', 'mean much', 'far real', 'wan', 'first excellent', 'better love', 'tough comical', 'tired best', 'bad sad', 'less action', 'brilliant beautiful', 'dark good', 'hate right', 'good game', 'pathetic great', 'easily real', 'main alive', 'much cool', 'new awful', 'love black', 'special great', 'general good', 'best average', 'first worse', 'much high', 'perfect better', 'subject common', 'boring first', 'real lightly', 'rough', 'cute full', 'serious funny', 'weird creepy', 'right beautiful', 'weird serious', 'tight', 'enjoyable whole', 'sexy', 'action original', 'worth better', 'menacing', 'logically', 'bad enjoyable', 'high love', 'light full', 'good straight', 'bad dumb', 'really mean', 'really least', 'least better', 'real dramatic', 'many thin', 'pointless fair', 'original little', 'little first', 'thanks illegal', 'old enjoy', 'light fun', 'right decent', 'old cheap', 'superior', 'richly', 'usually wow', 'usually really', 'creative worth', 'excellent great', 'great laugh', 'sure main', 'decent fly', 'worth action', 'plain silly', 'action enjoy', 'black important', 'intense sound', 'fine great', 'modern real', 'half better', 'partial', 'pathetic dumb', 'beautiful love', 'lazy better', 'first wrong', 'highly full', 'half dark', 'gentle', 'poorly full', 'kind action', 'nice much', 'safe bad', 'wow boring', 'illegal good', 'good important', 'difficult really', 'better enjoy', 'fun far', 'old half', 'sweet first', 'main annoying', 'good liable', 'real important', 'typical first', 'whole new', 'funny weird', 'love high', 'bad perfect', 'worth enjoyable', 'far single', 'tired really', 'action little', 'new kind', 'illegal alien', 'whole full', 'unfair', 'gladly', 'light much', 'strange jail', 'much worth', 'seriously love', 'kind weak', 'positive great', 'real worth', 'good super', 'new really', 'slow weird', 'little wrong', 'skilled', 'slick', 'slightly average', 'worst great', 'clearly original', 'subject usually', 'cleverly little', 'criminal bad', 'enjoy action', 'right near', 'first love', 'main first', 'laugh beautiful', 'epic epic', 'kind really', 'nicely old', 'long little', 'past fake', 'perfectly fine', 'scary really', 'slow engaging', 'poorly many', 'true action', 'cute original', 'latest original', 'mostly usually', 'real least', 'sure bad', 'bad happy', 'better mean', 'worthy secret', 'straight good', 'hate far', 'little rough', 'original beautiful', 'good laughable', 'true pure', 'real black', 'new usual', 'far much', 'black live', 'perfect top', 'profound first', 'fun funny', 'better main', 'cold dark', 'complete really', 'whole boring', 'mediocre mildly', 'great original', 'usual nice', 'enjoy new', 'wonderful good', 'fit military', 'really worth', 'mundane', 'sure better', 'dirty early', 'advanced', 'boring cheese', 'sweet many', 'unique good', 'poor dull', 'usual stupid', 'much notably', 'fly alien', 'action slow', 'first black', 'love horrible', 'really slightly', 'great fantastic', 'small hard', 'negative good', 'crazy great', 'worse really', 'dumb dumb', 'best exactly', 'horrible good', 'redundant', 'certain long', 'awesome difficult', 'mean first', 'much original', 'great awesome', 'fast mean', 'action single', 'far far', 'sure higher', 'funny really', 'less bloody', 'live little', 'worst bad', 'best pathetic', 'adult pretty', 'high kind', 'funny love', 'good live', 'first full', 'amazing much', 'forced strong', 'good right', 'stupid easily', 'kind better', 'first easily', 'average least', 'plot', 'half first', 'wow wow', 'pretty awful', 'gripping good', 'heroic great', 'becoming whole', 'boring real', 'beautiful good', 'whole many', 'game fine', 'wrong amazing', 'difficult little', 'sad amazing', 'certain certain', 'real kind', 'behind little', 'hard hard', 'action cool', 'pink pink', 'poorly action', 'really classic', 'first right', 'mess better', 'new least', 'exhausted', 'good center', 'mild', 'best cool', 'sweet sweet', 'thick', 'poorly fun', 'modern classic', 'great childish', 'love illegal', 'adorable', 'captive', 'bad usual', 'right black', 'better live', 'true good', 'real comic', 'negative decent', 'better spent', 'during', 'black full', 'really scary', 'deadly', 'full better', 'sharp new', 'high light', 'new exciting', 'better worse', 'really dull', 'creative really', 'much single', 'love able', 'missile', 'funny whole', 'plain gifted', 'good flawed', 'sensitive', 'great excellent', 'better mess', 'mild love', 'excessive', 'top mostly', 'old funny', 'pretty boring', 'cheese cute', 'hard funny', 'fairly good', 'poorly real', 'mess great', 'hate great', 'clear good', 'bad little', 'nice pretty', 'awful bad', 'half long', 'instantly', 'best first', 'wrong insane', 'less half', 'usual modern', 'hate black', 'least good', 'bad far', 'poor much', 'black grey', 'kind pretty', 'stiff', 'long random', 'inventive', 'clearly real', 'enjoy enjoy', 'lyric', 'primary', 'missing worst', 'complete waste', 'love small', 'good clearly', 'laugh smile', 'effective good', 'top good', 'top original', 'funny scary', 'fanatic', 'fake good', 'evil evil', 'bad ugly', 'boring poorly', 'beautiful typical', 'first near', 'minimal', 'chicken', 'wrong first', 'bad poor', 'foreign', 'fine better', 'wrong laugh', 'vibrant', 'first modern', 'worth really', 'fine new', 'bland good', 'laugh many', 'minus ingenious', 'little top', 'good evil', 'fun much', 'adequate decent', 'great major', 'young young', 'bad new', 'enjoy sick', 'many free', 'excellent new', 'perfect fine', 'less main', 'coherent', 'best horrible', 'really engaging', 'ideal', 'mean many', 'least beautiful', 'first adult', 'nearly first', 'many subject', 'amazing bad', 'good crazy', 'boring slow', 'least bad', 'clumsy', 'better competent', 'first long', 'forced really', 'perfect wet', 'worth sure', 'enjoying', 'half love', 'many fresh', 'boring better', 'live action', 'huge really', 'young good', 'excellent really', 'wildly', 'better old', 'mediocre really', 'illegal amazing', 'black whole', 'young careful', 'really near', 'superb angry', 'boring dull', 'first dull', 'right enjoy', 'old super', 'good amazing', 'decent decent', 'subject social', 'exciting bad', 'wrong green', 'lucky sadly', 'old single', 'talented sad', 'old older', 'eerie', 'dull sadly', 'usually good', 'broken love', 'worth worth', 'original nice', 'horrible worse', 'mess good', 'love pretty', 'classic good', 'huge pretty', 'poorly poorly', 'better little', 'new holiness', 'quickly good', 'wrong needless', 'charming easy', 'wasted bad', 'full kind', 'new cruel', 'far trapped', 'sorry good', 'evil dead', 'good fit', 'cute cute', 'top sadly', 'first ugly', 'quickly much', 'dumb nice', 'higher great', 'kind terrible', 'poor important', 'pretty funny', 'decent much', 'hilarious good', 'family', 'smart really', 'ill really', 'partially', 'original perfect', 'least terrible', 'random new', 'fantastic slow', 'whole beautiful', 'past touching', 'fresh win', 'really hardly', 'creepy first', 'ruthless', 'mess least', 'hilarious love', 'hate good', 'mean bad', 'sure annoying', 'boring bad', 'seriously action', 'love favorite', 'secret great', 'much fast', 'excited first', 'subtly rewarding', 'flat great', 'sure special', 'amazing good', 'black great', 'strong good', 'action fun', 'poor clean', 'serious great', 'good happy', 'miserably', 'good annoying', 'nice action', 'classy', 'sure powerful', 'first wow', 'main great', 'gimmick', 'mean pink', 'talented game', 'nice mean', 'worth decent', 'wrong fun', 'little mostly', 'green first', 'catching', 'original first', 'really young', 'primarily', 'tiresome', 'wasted dull', 'cheap laugh', 'poor black', 'evident', 'remotely', 'new classy', 'full boring', 'really funny', 'kind little', 'better amazing', 'due awful', 'much new', 'good serious', 'beautiful wrong', 'general pretty', 'superb certainly', 'sad waste', 'kind real', 'silly funny', 'unique perfect', 'mean long', 'extremely slow', 'real first', 'hard really', 'new amazing', 'worst worse', 'amazing worth', 'mostly good', 'horrible amazing', 'weird much', 'least cool', 'modern long', 'boring honestly', 'old kind', 'true amazing', 'cute fun', 'worst long', 'touching important', 'least much', 'black good', 'super excited', 'bad first', 'truthful', 'sound really', 'many behind', 'vulgar loud', 'hilarious bad', 'pointless poor', 'brilliant little', 'victim good', 'casual', 'much true', 'top half', 'single real', 'due little', 'bad forced', 'fantastic honestly', 'cheap original', 'touching much', 'really cute', 'mean gruesome', 'horrible horrible', 'much tough', 'many new', 'wrong worthy', 'poorly best', 'mediocre fun', 'first brilliant', 'terrible worse', 'partially new', 'awesome whole', 'kind hard', 'autistic', 'hard enjoyable', 'slow horrible', 'bad slow', 'shady', 'better single', 'waste really', 'excellent beautiful', 'fit much', 'clear love', 'beautiful pretty', 'near perfect', 'sincere beautiful', 'intense really', 'black decent', 'welcome', 'painful sad', 'much behind', 'lonely', 'super cheese', 'old painful', 'bad terrible', 'kind enjoy', 'perfect positive', 'real enjoyable', 'shy', 'decent previous', 'many worth', 'usually best', 'good quick', 'funny mostly', 'poor old', 'main young', 'precise', 'terrible much', 'original funny', 'kind straight', 'bitter', 'absolute waste', 'half beautiful', 'colorful', 'wasted really', 'usual little', 'great previous', 'honestly boring', 'slow love', 'great exciting', 'weird sexual', 'slowly really', 'love during', 'whole little', 'first dark', 'uniquely', 'long slow', 'easy high', 'thanks nice', 'worth average', 'game really', 'many dead', 'stupid evil', 'great subject', 'great poor', 'minimal main', 'fun long', 'old better', 'bad hilarious', 'sucker', 'bad fit', 'least little', 'nearly strong', 'able first', 'many loose', 'early much', 'clever good', 'glad high', 'clear dramatic', 'love exactly', 'seamless', 'military many', 'quickly great', 'pointless worth', 'classic modern', 'better wrong', 'sorry real', 'much mean', 'whole right', 'pleasant charming', 'extremely new', 'love waste', 'near real', 'better full', 'pointless really', 'really forced', 'aged', 'true great', 'boring nice', 'social bad', 'top really', 'imitation', 'really small', 'notable', 'good rose', 'iconic new', 'little tired', 'terrible extremely', 'top black', 'painfully many', 'main important', 'great awful', 'worst sum', 'fun boring', 'expensive', 'straight better', 'mean awesome', 'first absolute', 'beautiful great', 'main least', 'enjoyable good', 'beautiful perfect', 'crushing', 'long kind', 'realistic real', 'black mean', 'certainly worth', 'really certainly', 'little subtly', 'main quickly', 'great perfect', 'great old', 'randomly', 'usual really', 'sadly previous', 'hard action', 'real young', 'new epic', 'decent nice', 'much mundane', 'stupid first', 'real sure', 'typical really', 'high great', 'mean best', 'true little', 'quickly bad', 'terribly good', 'worth fly', 'super lame', 'secure', 'nice criminal', 'love positive', 'best worth', 'complete good', 'titular', 'top general', 'worth kind', 'little random', 'much clearly', 'worst enjoy', 'many honestly', 'good waste', 'old due', 'good false', 'first skeptical', 'best fun', 'super scary', 'best boring', 'good crap', 'perfect mean', 'better fun', 'late great', 'fair good', 'original stale', 'crap good', 'able enjoy', 'cheap scary', 'extremely many', 'bad sure', 'pretty small', 'least natural', 'really powerful', 'pretty flat', 'fun love', 'long tired', 'amazing slightly', 'new near', 'love terrible', 'fantastic great', 'dried', 'mean better', 'dead dead', 'hate funny', 'past little', 'unique sincere', 'new beautiful', 'honest much', 'wrong much', 'young married', 'honest real', 'bad painfully', 'favorite real', 'decent terrible', 'hard original', 'less good', 'better nice', 'long live', 'much honest', 'enjoy many', 'half boring', 'first super', 'stupidity appalling', 'much laugh', 'success first', 'spent sure', 'unseated love', 'fair great', 'great silly', 'poor false', 'action awesome', 'enjoy high', 'fun kind', 'clearly single', 'action typical', 'dark black', 'sure decent', 'old fun', 'pretty weak', 'forced terrible', 'real typical', 'terrible waste', 'weak action', 'modern decent', 'old boring', 'naturally fantastic', 'near far', 'action mediocre', 'original poor', 'enjoy hate', 'main flat', 'kind mad', 'action awful', 'best talented', 'cool fresh', 'thrilling easily', 'true sad', 'long dead', 'right ready', 'scary usual', 'drag good', 'best small', 'love laugh', 'good drag', 'many long', 'painful funny', 'funny kind', 'good talented', 'ready great', 'nice boring', 'really highly', 'kind live', 'funny spoof', 'mess bad', 'nice kind', 'really silly', 'little innocent', 'little fun', 'thanks classic', 'boring certain', 'stupidity love', 'excellent black', 'terrible wow', 'silly fun', 'light really', 'humble', 'long artistic', 'really pity', 'good competent', 'striking', 'right love', 'boring right', 'insecure', 'excited good', 'dull dull', 'dead best', 'pretty slow', 'drag little', 'easy good', 'mediocre tedious', 'secret behind', 'great clearly', 'far seriously', 'right much', 'amazing great', 'good criminal', 'dark hard', 'bad powerful', 'old hollow', 'really game', 'much relevant', 'fly really', 'first annoying', 'sure sound', 'better terrible', 'usually bad', 'loyal', 'cultural many', 'greatly', 'dramatic much', 'certainly wrong', 'action top', 'bad cool', 'lifelong', 'action brilliant', 'long funny', 'weird weird', 'highly first', 'little true', 'main boring', 'sound bad', 'love whole', 'weird bad', 'hate stupid', 'black worst', 'action sad', 'quickly becoming', 'precisely', 'ill worse', 'kind best', 'confident', 'superb excellent', 'easy better', 'great small', 'extinct', 'poorly sure', 'wow vaguely', 'good light', 'much first', 'weak huge', 'win good', 'hard fit', 'poor latest', 'nearly kind', 'true top', 'little slowly', 'poorly half', 'good excuse', 'many hard', 'clever funny', 'far worst', 'hard bad', 'old seriously', 'right bad', 'far worse', 'easily worst', 'angry sad', 'good fine', 'really sorry', 'terrible original', 'bad seriously', 'mean wrong', 'first quickly', 'perfect long', 'dumb fun', 'casually', 'full honest', 'mediocre smart', 'usual classic', 'young mean', 'whole pretty', 'nearly destroy', 'little absurd', 'exciting first', 'wrong becoming', 'good sound', 'vicious', 'young really', 'single good', 'wrong highly', 'wasted miserable', 'laugh great', 'long terrible', 'typical good', 'sure worth', 'much beautiful', 'unusual really', 'really loud', 'little typical', 'really shocking', 'new light', 'subject awful', 'largely', 'really awful', 'right evil', 'seriously fun', 'slow early', 'ill terrible', 'young able', 'seriously good', 'really spent', 'black extreme', 'new worst', 'first amazing', 'epic great', 'careful right', 'first kind', 'hard lame', 'new right', 'happy great', 'fantastic best', 'boring half', 'decent great', 'classic really', 'much complete', 'fine cool', 'much secretly', 'really important', 'old long', 'great positive', 'first main', 'modern top', 'sure worse', 'clever boring', 'great mostly', 'spent really', 'much positive', 'small pretty', 'military sure', 'much remotely', 'fantastic good', 'highly fun', 'kind black', 'near half', 'black beautiful', 'good lucky', 'new little', 'glad great', 'minor fine', 'recently', 'first hate', 'good high', 'kind boring', 'evil mean', 'true better', 'whole original', 'mentally good', 'really wonderful', 'whole bad', 'great sure', 'really pointless', 'surely positive', 'right sad', 'much dead', 'gorgeous fantastic', 'terrible great', 'ending', 'funny free', 'real classy', 'first laugh', 'worth willing', 'really single', 'normal pretty', 'black glad', 'oddly', 'main hidden', 'much light', 'strange funny', 'better happy', 'modern worthy', 'creative best', 'excited real', 'top sincere', 'near funny', 'young first', 'real nearly', 'fun action', 'boring action', 'perfect wrong', 'main weak', 'stupid worth', 'hollow hollow', 'much least', 'pretty best', 'enjoyable love', 'huge decent', 'serious light', 'original full', 'black bad', 'miserable', 'flat real', 'gorgeous drag', 'poorly good', 'terribly less', 'favorite pointless', 'slow true', 'bad nice', 'excited new', 'pathetic awful', 'complete fly', 'really fine', 'slow first', 'beautiful enjoy', 'flat really', 'many mediocre', 'laugh stupid', 'kind crap', 'great sad', 'little sure', 'new many', 'cutting', 'honestly real', 'true worse', 'fine pretty', 'plain whole', 'beloved right', 'mean old', 'due poor', 'little pretty', 'worst much', 'kind amazing', 'special bad', 'love social', 'fly great', 'super slow', 'whole sure', 'past marvelous', 'remotely realistic', 'happy much', 'full really', 'dumb lame', 'much creepy', 'angry angry', 'fair really', 'worth epic', 'pretty full', 'thrilling gory', 'thanks funny', 'pointless awfully', 'good fresh', 'corrupt', 'past past', 'clearly many', 'black game', 'classic classic', 'intense clearly', 'fit right', 'much legal', 'action barely', 'badly love', 'tame', 'first slow', 'subject early', 'new far', 'decent real', 'slow sad', 'lame good', 'first serious', 'single little', 'positive good', 'amazing true', 'complete real', 'sucker typically', 'action funny', 'laugh love', 'satisfied', 'missing kind', 'hard artistic', 'strong engaging', 'straight first', 'sadly great', 'past surely', 'good limited', 'real little', 'long new', 'good awesome', 'fun awful', 'abrupt', 'poor best', 'vulgar', 'pure waste', 'crazy first', 'true superb', 'love excited', 'many loud', 'laugh fun', 'accurate major', 'honestly better', 'enjoyable fun', 'nearly bad', 'amazing little', 'slow excellent', 'favorite great', 'many real', 'glad waste', 'tired action', 'raw great', 'many love', 'superb fresh', 'spent wasted', 'good intense', 'many small', 'good victim', 'main kind', 'worst new', 'pretty new', 'really old', 'victim fine', 'quick good', 'good usually', 'clearly least', 'original fly', 'kind social', 'bad beautiful', 'good nearly', 'trapped familiar', 'top fly', 'great certain', 'bad complete', 'enjoy far', 'weird forced', 'extremely first', 'many action', 'lame waste', 'easily best', 'seriously best', 'many stupid', 'usual unique', 'enjoy great', 'fantastic really', 'real cheese', 'mental cultural', 'past really', 'love hidden', 'amazing whole', 'usual special', 'worth hard', 'creepy fun', 'much fit', 'sermon', 'sure enjoy', 'mostly much', 'mean nice', 'small enjoyable', 'pretty kind', 'far many', 'mild first', 'large good', 'perfect complete', 'subtly', 'excellent slow', 'bad silly', 'honestly pretty', 'annoying good', 'cool little', 'waste terrible', 'near action', 'monkey funny', 'terrible worst', 'mildly better', 'black love', 'great glad', 'old nearly', 'whole fun', 'wrong least', 'bad usually', 'original original', 'good merely', 'rose really', 'much dry', 'perfect fun', 'first single', 'strange strange', 'funny long', 'honestly original', 'enjoy funny', 'right original', 'original fine', 'little exactly', 'wrong serious', 'love main', 'honest good', 'lazy worst', 'half worst', 'original least', 'weak terrible', 'typical easy', 'much heroic', 'full whole', 'older sure', 'amazing dead', 'pity subject', 'natural great', 'real much', 'love enjoy', 'instantly annoying', 'beautiful forced', 'normal great', 'angry right', 'perfect much', 'wasted good', 'loud sound', 'superb slow', 'poorly classic', 'special right', 'super awesome', 'much cheap', 'old tired', 'enjoy first', 'fine wrong', 'cute love', 'true real', 'awesome gory', 'success great', 'smoothly', 'enjoy fun', 'funny perfect', 'pointless sound', 'little unfair', 'seriously much', 'much sticker', 'average real', 'bad high', 'really stupid', 'negative sweet', 'sure mean', 'intense worth', 'strange whole', 'worth easy', 'able good', 'new trapped', 'great wasted', 'appealing', 'brilliant brilliant', 'worthy boring', 'worth golden', 'random random', 'easily right', 'latest latest', 'early really', 'better action', 'best funny', 'good amazingly', 'ordinary many', 'highly good', 'worthy light', 'excellent good', 'decent laugh', 'bad dead', 'decent best', 'terrible wrong', 'whole waste', 'much excellent', 'awful much', 'better boring', 'nice pure', 'poorly worst', 'original best', 'silly really', 'worth waste', 'much worse', 'enjoyable bad', 'tedious tedious', 'average enjoy', 'black true', 'poor great', 'worth spent', 'melodrama happy', 'military game', 'subject long', 'super charming', 'noble', 'wrong real', 'bad sound', 'boring forced', 'normally beautiful', 'game horrible', 'bad extremely', 'usual kind', 'great perfectly', 'absolute best', 'strong real', 'hard exactly', 'kind absolute', 'new love', 'movable cool', 'little secret', 'bad difficult', 'first boring', 'better waste', 'boring top', 'much easily', 'black many', 'cool whole', 'mediocre new', 'right little', 'far brilliant', 'great extremely', 'missing adult', 'absolute worst', 'funny worst', 'lousy young', 'old nice', 'good modern', 'much easy', 'boring mess', 'best kind', 'much nice', 'early little', 'wrong beautiful', 'extremely really', 'usually little', 'fine fun', 'many young', 'fine much', 'victim powerful', 'nice love', 'long cheap', 'greater really', 'wow excellent', 'subtle social', 'good certainly', 'great worthy', 'hard better', 'slow full', 'mostly dull', 'original old', 'favorite amazing', 'original sadly', 'plausible easily', 'engaging good', 'tired fine', 'remote', 'much waste', 'easily many', 'worthy rose', 'really high', 'boring worst', 'love awful', 'long wasted', 'best magic', 'great right', 'normal true', 'best amazing', 'right amazing', 'real right', 'wasted mediocre', 'better whole', 'original half', 'latest far', 'least fun', 'touching good', 'apt', 'good previous', 'adult fly', 'worth awful', 'many waste', 'rehash', 'good absolute', 'mindless fun', 'stupid waste', 'many right', 'great superb', 'fun nice', 'certain serious', 'boring mediocre', 'alive good', 'vicious clever', 'decent little', 'less pretty', 'young flawed', 'black clear', 'black honestly', 'least action', 'full annoying', 'near worthy', 'painfully best', 'average typical', 'original rose', 'destroy good', 'action less', 'easy honest', 'bad single', 'terrible pointless', 'kind horrible', 'difficult good', 'hate kind', 'good social', 'exactly new', 'vital much', 'long bad', 'long honest', 'black sure', 'fantastic terrible', 'excellent original', 'decent really', 'terrible amazing', 'new super', 'amazing best', 'really fake', 'general mean', 'usually funny', 'afraid much', 'much mediocre', 'real early', 'worth desperate', 'average bad', 'game game', 'stupid stupid', 'many full', 'many highly', 'touching relevant', 'ordinary perfectly', 'usual bad', 'amazing action', 'fantastic half', 'action nice', 'wrong gory', 'typical high', 'game pretty', 'worse good', 'perfectly many', 'shallow important', 'long whole', 'serious subject', 'tired right', 'violent wrong', 'worth huge', 'many ill', 'little worth', 'boring old', 'best less', 'good due', 'tedious slow', 'first clear', 'mean pretty', 'painfully pathetic', 'great new', 'laugh kind', 'raw love', 'love special', 'mean small', 'horrible sure', 'suitable whole', 'wrong action', 'disabled', 'modern smart', 'action fairly', 'better lazy', 'social great', 'light worth', 'better important', 'candid', 'stupid many', 'mean perfect', 'mere firstly', 'top fresh', 'slow amateur', 'extremely good', 'extremely boring', 'much poorly', 'ill great', 'mindless action', 'kind sad', 'poor clearly', 'real stunning', 'mostly worth', 'powerful extremely', 'wrong right', 'violent strongly', 'enjoy favorite', 'little hard', 'least less', 'better past', 'wow bad', 'good worthy', 'scary terrible', 'true wealthy', 'game love', 'main hard', 'decent main', 'main fun', 'worthy first', 'main bad', 'cool funny', 'great full', 'past clearly', 'worthy hot', 'pleasant action', 'many wrong', 'little fine', 'much special', 'little enjoy', 'dark many', 'boring pretty', 'top pretty', 'fine worth', 'much old', 'fast many', 'pretty extremely', 'pretty cool', 'much unique', 'normal certain', 'young game', 'much friendly', 'great poorly', 'best half', 'whole less', 'lately beautiful', 'clearly important', 'least poor', 'mentally victim', 'turning', 'nominally', 'wow typical', 'weird stupid', 'old classic', 'little nice', 'pivotal certain', 'kind love', 'trapped much', 'wonderful really', 'hate single', 'bland great', 'ill good', 'higher first', 'real cruel', 'famous much', 'real live', 'good seriously', 'boring wide', 'toilet', 'perfect best', 'pretty perfect', 'stupid really', 'single really', 'old typical', 'subject terrible', 'alcoholic', 'far old', 'modestly extremely', 'happy adult', 'decent late', 'worth fine', 'serious kind', 'much mostly', 'action small', 'great fail', 'first due', 'average great', 'whole better', 'game better', 'love sound', 'pretty real', 'much stumble', 'black hard', 'disgusted', 'main black', 'slow generally', 'terrible first', 'original creative', 'partial pretty', 'pleasant better', 'best many', 'much melodrama', 'good brilliant', 'mess sure', 'fun little', 'old lame', 'first fun', 'monkey', 'mean fun', 'real exact', 'much desperate', 'original worth', 'game real', 'weak best', 'certainly certainly', 'extremely original', 'victim sure', 'enjoy best', 'fit fit', 'poor easily', 'fun true', 'mediocre lazy', 'dull full', 'past long', 'dead worst', 'really free', 'far less', 'high whole', 'highly love', 'extremely great', 'military military', 'mediocre full', 'beautiful amazing', 'really late', 'waste boring', 'creative much', 'directly', 'funny nice', 'terrible dull', 'better free', 'free much', 'best classic', 'great modern', 'decent typical', 'stale hard', 'sad important', 'far superior', 'many missing', 'worthy great']\n"
     ]
    }
   ],
   "source": [
    "rf = RandomForestClassifier(random_state=27, n_jobs=-1)\n",
    "rf.fit(X, y)\n",
    "\n",
    "importances = rf.feature_importances_\n",
    "indices = np.argsort(importances)[::-1]\n",
    "\n",
    "num_feature = 3000\n",
    "top_features_rf = [X.columns[i] for i in indices[:num_feature]]\n",
    "print(f\"Selected Features (Random Forest): {top_features_rf}\")\n",
    "\n",
    "X_selected = X[top_features_rf]"
   ]
  },
  {
   "cell_type": "code",
   "execution_count": 41,
   "id": "6554198b",
   "metadata": {},
   "outputs": [
    {
     "name": "stdout",
     "output_type": "stream",
     "text": [
      "<class 'pandas.core.frame.DataFrame'>\n",
      "RangeIndex: 5187 entries, 0 to 5186\n",
      "Columns: 3000 entries, vader_sentiment to worthy great\n",
      "dtypes: Sparse[float64, 0](2977), float64(23)\n",
      "memory usage: 1.5 MB\n"
     ]
    }
   ],
   "source": [
    "X_selected.info()"
   ]
  },
  {
   "cell_type": "markdown",
   "id": "d175fbf7",
   "metadata": {},
   "source": [
    "# PCA: Dimensionality Reduction\n",
    "\n",
    "## Again need to find optimum k"
   ]
  },
  {
   "cell_type": "code",
   "execution_count": 42,
   "id": "5a05f7b9",
   "metadata": {},
   "outputs": [],
   "source": [
    "from sklearn.decomposition import PCA\n",
    "from sklearn.preprocessing import StandardScaler\n",
    "import matplotlib.pyplot as plt\n",
    "\n",
    "# Standardize the data\n",
    "scaler = StandardScaler(with_mean=False)\n",
    "X_scaled = scaler.fit_transform(X_selected)"
   ]
  },
  {
   "cell_type": "code",
   "execution_count": null,
   "id": "dabf2d64",
   "metadata": {},
   "outputs": [],
   "source": []
  },
  {
   "cell_type": "code",
   "execution_count": 43,
   "id": "9577b112",
   "metadata": {},
   "outputs": [],
   "source": [
    "n_components=200\n",
    "pca = PCA(n_components=n_components)\n",
    "X_pca = pca.fit_transform(X_scaled)\n",
    "\n",
    "# Convert to DataFrame\n",
    "X_pca = pd.DataFrame(X_pca, columns=[f'PC{i+1}' for i in range(n_components)])"
   ]
  },
  {
   "cell_type": "code",
   "execution_count": 44,
   "id": "1fe374c3",
   "metadata": {},
   "outputs": [
    {
     "name": "stdout",
     "output_type": "stream",
     "text": [
      "<class 'pandas.core.frame.DataFrame'>\n",
      "RangeIndex: 5187 entries, 0 to 5186\n",
      "Columns: 200 entries, PC1 to PC200\n",
      "dtypes: float64(200)\n",
      "memory usage: 7.9 MB\n"
     ]
    }
   ],
   "source": [
    "X_pca.info()"
   ]
  },
  {
   "cell_type": "markdown",
   "id": "199e2fc0",
   "metadata": {},
   "source": [
    "# LASSO TBC"
   ]
  },
  {
   "cell_type": "markdown",
   "id": "fc942ffd",
   "metadata": {},
   "source": [
    "# Now onto our models"
   ]
  },
  {
   "cell_type": "code",
   "execution_count": 45,
   "id": "6b1759c0",
   "metadata": {},
   "outputs": [],
   "source": [
    "X_train, X_test, y_train, y_test = train_test_split(X_pca, y, test_size=0.2, random_state=27, stratify=y)"
   ]
  },
  {
   "cell_type": "markdown",
   "id": "e267f0bd",
   "metadata": {},
   "source": [
    "# Logistic Regression (LR)"
   ]
  },
  {
   "cell_type": "markdown",
   "id": "e0730997",
   "metadata": {},
   "source": [
    "## LR - Initial Run"
   ]
  },
  {
   "cell_type": "code",
   "execution_count": 46,
   "id": "94fd86f4",
   "metadata": {},
   "outputs": [
    {
     "name": "stdout",
     "output_type": "stream",
     "text": [
      "Initial Classification Report:\n",
      "              precision    recall  f1-score   support\n",
      "\n",
      "         0.0       0.82      0.80      0.81       540\n",
      "         1.0       0.79      0.81      0.80       498\n",
      "\n",
      "    accuracy                           0.80      1038\n",
      "   macro avg       0.80      0.80      0.80      1038\n",
      "weighted avg       0.80      0.80      0.80      1038\n",
      "\n"
     ]
    }
   ],
   "source": [
    "model_mlr = LogisticRegression(solver='lbfgs', class_weight='balanced', max_iter=1000)\n",
    "\n",
    "model_mlr.fit(X_train, y_train)\n",
    "\n",
    "y_pred = model_mlr.predict(X_test)\n",
    "print(\"Initial Classification Report:\")\n",
    "print(classification_report(y_test, y_pred, zero_division=1))"
   ]
  },
  {
   "cell_type": "markdown",
   "id": "ced78832",
   "metadata": {},
   "source": [
    "## LR- Hyperparameter Tuning"
   ]
  },
  {
   "cell_type": "code",
   "execution_count": 47,
   "id": "59721afa",
   "metadata": {},
   "outputs": [
    {
     "data": {
      "application/javascript": [
       "\n",
       "        if (window._pyforest_update_imports_cell) { window._pyforest_update_imports_cell('from sklearn.model_selection import GridSearchCV'); }\n",
       "    "
      ],
      "text/plain": [
       "<IPython.core.display.Javascript object>"
      ]
     },
     "metadata": {},
     "output_type": "display_data"
    },
    {
     "name": "stdout",
     "output_type": "stream",
     "text": [
      "\n",
      "Best Parameters: {'C': 0.001, 'solver': 'lbfgs'}\n",
      "\n",
      "Tuned Classification Report:\n",
      "              precision    recall  f1-score   support\n",
      "\n",
      "         0.0       0.83      0.79      0.81       540\n",
      "         1.0       0.78      0.82      0.80       498\n",
      "\n",
      "    accuracy                           0.80      1038\n",
      "   macro avg       0.80      0.80      0.80      1038\n",
      "weighted avg       0.80      0.80      0.80      1038\n",
      "\n"
     ]
    }
   ],
   "source": [
    "param_grid = {\n",
    "    'C': [0.00001, 0.0001, 0.001, 0.01, 0.1, 1, 10],\n",
    "    'solver': ['lbfgs', 'saga'],\n",
    "}\n",
    "\n",
    "grid = GridSearchCV(\n",
    "    LogisticRegression(multi_class='multinomial', class_weight='balanced', max_iter=1000),\n",
    "    param_grid,\n",
    "    scoring='accuracy',\n",
    "    cv=5,\n",
    "    n_jobs=-1\n",
    ")\n",
    "\n",
    "grid.fit(X_train, y_train)\n",
    "\n",
    "print(\"\\nBest Parameters:\", grid.best_params_)\n",
    "\n",
    "y_pred_tuned = grid.predict(X_test)\n",
    "print(\"\\nTuned Classification Report:\")\n",
    "print(classification_report(y_test, y_pred_tuned, zero_division=1))"
   ]
  },
  {
   "cell_type": "markdown",
   "id": "33a8a0ee",
   "metadata": {},
   "source": [
    "# Random Forest (RF)"
   ]
  },
  {
   "cell_type": "markdown",
   "id": "8a651269",
   "metadata": {},
   "source": [
    "## RF - Initial Run"
   ]
  },
  {
   "cell_type": "code",
   "execution_count": 48,
   "id": "e20923b1",
   "metadata": {},
   "outputs": [
    {
     "name": "stdout",
     "output_type": "stream",
     "text": [
      "\n",
      "Initial Classification Report:\n",
      "              precision    recall  f1-score   support\n",
      "\n",
      "         0.0       0.81      0.83      0.82       540\n",
      "         1.0       0.81      0.79      0.80       498\n",
      "\n",
      "    accuracy                           0.81      1038\n",
      "   macro avg       0.81      0.81      0.81      1038\n",
      "weighted avg       0.81      0.81      0.81      1038\n",
      "\n"
     ]
    }
   ],
   "source": [
    "model_rf = RandomForestClassifier(random_state=27, class_weight='balanced')\n",
    "\n",
    "model_rf.fit(X_train, y_train)\n",
    "y_pred = model_rf.predict(X_test)\n",
    "\n",
    "print(\"\\nInitial Classification Report:\")\n",
    "print(classification_report(y_test, y_pred, zero_division=1))"
   ]
  },
  {
   "cell_type": "markdown",
   "id": "272d864a",
   "metadata": {},
   "source": [
    "## RF - Hyperparameter Tuning"
   ]
  },
  {
   "cell_type": "code",
   "execution_count": 49,
   "id": "60581ad1",
   "metadata": {},
   "outputs": [
    {
     "name": "stdout",
     "output_type": "stream",
     "text": [
      "\n",
      "Best Hyperparameters: {'bootstrap': True, 'max_depth': 35, 'max_features': 'sqrt', 'min_samples_leaf': 1, 'min_samples_split': 5, 'n_estimators': 997}\n",
      "\n",
      "Tuned RF Classification Report:\n",
      "              precision    recall  f1-score   support\n",
      "\n",
      "         0.0       0.83      0.85      0.84       540\n",
      "         1.0       0.83      0.81      0.82       498\n",
      "\n",
      "    accuracy                           0.83      1038\n",
      "   macro avg       0.83      0.83      0.83      1038\n",
      "weighted avg       0.83      0.83      0.83      1038\n",
      "\n"
     ]
    }
   ],
   "source": [
    "param_dist = {\n",
    "    'n_estimators': randint(50, 1000),\n",
    "    'max_depth': randint(2, 50),\n",
    "    'min_samples_split': randint(2, 10),\n",
    "    'min_samples_leaf': randint(1, 10),\n",
    "    'max_features': ['sqrt', 'log2'],\n",
    "    'bootstrap': [True, False]\n",
    "}\n",
    "\n",
    "rand_search = RandomizedSearchCV(\n",
    "    estimator=model_rf,\n",
    "    param_distributions=param_dist,\n",
    "    n_iter=10,\n",
    "    cv=5,\n",
    "    scoring='accuracy',\n",
    "    n_jobs=-1,\n",
    "    random_state=27\n",
    ")\n",
    "\n",
    "rand_search.fit(X_train, y_train)\n",
    "\n",
    "best_rf = rand_search.best_estimator_\n",
    "\n",
    "y_pred_best = best_rf.predict(X_test)\n",
    "accuracy_best = accuracy_score(y_test, y_pred_best)\n",
    "\n",
    "print(\"\\nBest Hyperparameters:\", rand_search.best_params_)\n",
    "\n",
    "print(\"\\nTuned RF Classification Report:\")\n",
    "print(classification_report(y_test, y_pred_best, zero_division=1))"
   ]
  },
  {
   "cell_type": "markdown",
   "id": "384dbce9",
   "metadata": {},
   "source": [
    "# Support Vector Machine (SVM)"
   ]
  },
  {
   "cell_type": "markdown",
   "id": "151fe116",
   "metadata": {},
   "source": [
    "## SVM- Initial Run"
   ]
  },
  {
   "cell_type": "code",
   "execution_count": 50,
   "id": "d870789d",
   "metadata": {},
   "outputs": [
    {
     "name": "stdout",
     "output_type": "stream",
     "text": [
      "\n",
      "Initial Classification Report:\n",
      "              precision    recall  f1-score   support\n",
      "\n",
      "         0.0       0.82      0.79      0.81       540\n",
      "         1.0       0.79      0.82      0.80       498\n",
      "\n",
      "    accuracy                           0.80      1038\n",
      "   macro avg       0.80      0.80      0.80      1038\n",
      "weighted avg       0.81      0.80      0.80      1038\n",
      "\n"
     ]
    }
   ],
   "source": [
    "model_svm = svm.SVC(kernel=\"linear\", random_state=27, class_weight='balanced')\n",
    "\n",
    "model_svm.fit(X_train, y_train)\n",
    "y_pred = model_svm.predict(X_test)\n",
    "\n",
    "print(\"\\nInitial Classification Report:\")\n",
    "print(classification_report(y_test, y_pred, zero_division=1))"
   ]
  },
  {
   "cell_type": "markdown",
   "id": "fe9dd2f5",
   "metadata": {},
   "source": [
    "## SVM - Hyperparameter Tuning"
   ]
  },
  {
   "cell_type": "code",
   "execution_count": 51,
   "id": "c5f545fc",
   "metadata": {},
   "outputs": [
    {
     "data": {
      "application/javascript": [
       "\n",
       "        if (window._pyforest_update_imports_cell) { window._pyforest_update_imports_cell('from sklearn.model_selection import GridSearchCV'); }\n",
       "    "
      ],
      "text/plain": [
       "<IPython.core.display.Javascript object>"
      ]
     },
     "metadata": {},
     "output_type": "display_data"
    },
    {
     "name": "stdout",
     "output_type": "stream",
     "text": [
      "Fitting 5 folds for each of 6 candidates, totalling 30 fits\n",
      "\n",
      "Best Parameters: {'C': 1, 'kernel': 'linear'}\n",
      "\n",
      "Tuned Classification Report:\n",
      "              precision    recall  f1-score   support\n",
      "\n",
      "         0.0       0.82      0.79      0.81       540\n",
      "         1.0       0.79      0.82      0.80       498\n",
      "\n",
      "    accuracy                           0.80      1038\n",
      "   macro avg       0.80      0.80      0.80      1038\n",
      "weighted avg       0.81      0.80      0.80      1038\n",
      "\n"
     ]
    }
   ],
   "source": [
    "param_grid = {\n",
    "    'C': [0.1, 1, 5],\n",
    "    'kernel': ['linear', 'rbf'],\n",
    "}\n",
    "\n",
    "grid = GridSearchCV(\n",
    "    estimator=model_svm,\n",
    "    param_grid=param_grid,\n",
    "    scoring=\"accuracy\",\n",
    "    n_jobs=-1,\n",
    "    cv=5,\n",
    "    verbose=3\n",
    ")\n",
    "\n",
    "grid.fit(X_train, y_train)\n",
    "\n",
    "print(\"\\nBest Parameters:\", grid.best_params_)\n",
    "\n",
    "y_pred = grid.predict(X_test)\n",
    "print(\"\\nTuned Classification Report:\")\n",
    "print(classification_report(y_test, y_pred, zero_division=1))"
   ]
  },
  {
   "cell_type": "markdown",
   "id": "cbdfe667",
   "metadata": {},
   "source": [
    "# XGBoost (XGB)"
   ]
  },
  {
   "cell_type": "code",
   "execution_count": 52,
   "id": "db848605",
   "metadata": {},
   "outputs": [
    {
     "name": "stdout",
     "output_type": "stream",
     "text": [
      "\n",
      "Initial Classification Report:\n",
      "              precision    recall  f1-score   support\n",
      "\n",
      "         0.0       0.82      0.83      0.82       540\n",
      "         1.0       0.81      0.80      0.81       498\n",
      "\n",
      "    accuracy                           0.82      1038\n",
      "   macro avg       0.81      0.81      0.81      1038\n",
      "weighted avg       0.81      0.82      0.81      1038\n",
      "\n"
     ]
    }
   ],
   "source": [
    "from xgboost import XGBClassifier\n",
    "\n",
    "model_xgb = XGBClassifier(objective='multi:softmax', num_class=3, eval_metric='mlogloss', use_label_encoder=False)\n",
    "model_xgb.fit(X_train, y_train)\n",
    "\n",
    "y_pred = model_xgb.predict(X_test)\n",
    "print(\"\\nInitial Classification Report:\")\n",
    "print(classification_report(y_test, y_pred, zero_division=1))"
   ]
  },
  {
   "cell_type": "code",
   "execution_count": 53,
   "id": "6ef8db4d",
   "metadata": {},
   "outputs": [
    {
     "name": "stdout",
     "output_type": "stream",
     "text": [
      "Fitting 5 folds for each of 10 candidates, totalling 50 fits\n",
      "\n",
      "Best Hyperparameters: {'colsample_bytree': 0.8420099228854373, 'gamma': 2.6014624988494965, 'learning_rate': 0.2732097325745674, 'max_depth': 7, 'n_estimators': 150, 'reg_alpha': 0.5962139627641655, 'reg_lambda': 2.321377078921933, 'subsample': 0.9958554484315256}\n",
      "\n",
      "Tuned Classification Report:\n",
      "              precision    recall  f1-score   support\n",
      "\n",
      "         0.0       0.81      0.83      0.82       540\n",
      "         1.0       0.81      0.80      0.80       498\n",
      "\n",
      "    accuracy                           0.81      1038\n",
      "   macro avg       0.81      0.81      0.81      1038\n",
      "weighted avg       0.81      0.81      0.81      1038\n",
      "\n"
     ]
    }
   ],
   "source": [
    "from scipy.stats import randint, uniform\n",
    "\n",
    "param_dist = {\n",
    "    'n_estimators': randint(50, 500),       \n",
    "    'max_depth': randint(3, 15),      \n",
    "    'learning_rate': uniform(0.01, 0.3),   \n",
    "    'subsample': uniform(0.5, 0.5),      \n",
    "    'colsample_bytree': uniform(0.5, 0.5), \n",
    "    'gamma': uniform(0, 5),       \n",
    "    'reg_alpha': uniform(0, 1),  \n",
    "    'reg_lambda': uniform(1, 5)   \n",
    "}\n",
    "\n",
    "rand_search = RandomizedSearchCV(\n",
    "    estimator=model_xgb,\n",
    "    param_distributions=param_dist,\n",
    "    n_iter=10,              \n",
    "    cv=5,                \n",
    "    scoring='accuracy',  \n",
    "    n_jobs=-1,      \n",
    "    random_state=27,\n",
    "    verbose=3\n",
    ")\n",
    "\n",
    "rand_search.fit(X_train, y_train)\n",
    "\n",
    "best_xgb = rand_search.best_estimator_\n",
    "y_pred_best = best_xgb.predict(X_test)\n",
    "\n",
    "print(\"\\nBest Hyperparameters:\", rand_search.best_params_)\n",
    "print(\"\\nTuned Classification Report:\")\n",
    "print(classification_report(y_test, y_pred_best, zero_division=1))"
   ]
  },
  {
   "cell_type": "code",
   "execution_count": null,
   "id": "0add3b15",
   "metadata": {},
   "outputs": [],
   "source": []
  },
  {
   "cell_type": "code",
   "execution_count": null,
   "id": "7de6d5b6",
   "metadata": {},
   "outputs": [],
   "source": []
  },
  {
   "cell_type": "code",
   "execution_count": null,
   "id": "c764436e",
   "metadata": {},
   "outputs": [],
   "source": []
  },
  {
   "cell_type": "code",
   "execution_count": null,
   "id": "6fa7bb1f",
   "metadata": {},
   "outputs": [],
   "source": []
  }
 ],
 "metadata": {
  "kernelspec": {
   "display_name": "Python 3 (ipykernel)",
   "language": "python",
   "name": "python3"
  },
  "language_info": {
   "codemirror_mode": {
    "name": "ipython",
    "version": 3
   },
   "file_extension": ".py",
   "mimetype": "text/x-python",
   "name": "python",
   "nbconvert_exporter": "python",
   "pygments_lexer": "ipython3",
   "version": "3.9.13"
  }
 },
 "nbformat": 4,
 "nbformat_minor": 5
}
