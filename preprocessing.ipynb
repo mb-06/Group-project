{
 "cells": [
  {
   "cell_type": "code",
   "execution_count": 13,
   "id": "e4fb6f22-1bf1-4eca-9754-e86d4478f9b6",
   "metadata": {},
   "outputs": [],
   "source": [
    "import pandas as pd\n",
    "from scipy.sparse import hstack\n",
    "import spacy\n",
    "import re\n",
    "nlp = spacy.load(\"en_core_web_sm\")\n",
    "nlp.Defaults.stop_words -= {\"not\", \"do\"}"
   ]
  },
  {
   "cell_type": "code",
   "execution_count": 33,
   "id": "5c381d41-1dd1-486f-9f81-6acb1cd9d844",
   "metadata": {},
   "outputs": [],
   "source": [
    "# Forming a dataframe\n",
    "import sqlite3\n",
    "\n",
    "# Connect to the database file\n",
    "conn = sqlite3.connect(\"IMDB_Movies_2021.db\")\n",
    "\n",
    "# Create a cursor object\n",
    "cursor = conn.cursor()\n",
    "\n",
    "# Replace 'your_table_name' with the actual table name\n",
    "table_name = \"REVIEWS\"\n",
    "\n",
    "# Read the table into a DataFrame\n",
    "df = pd.read_sql_query(f\"SELECT * FROM {table_name}\", conn)\n",
    "\n",
    "# Close the connection\n",
    "conn.close()"
   ]
  },
  {
   "cell_type": "code",
   "execution_count": 35,
   "id": "8ae72d6d-74ab-40c9-9847-0a3578d8d5b0",
   "metadata": {},
   "outputs": [
    {
     "name": "stdout",
     "output_type": "stream",
     "text": [
      "<class 'pandas.core.frame.DataFrame'>\n",
      "RangeIndex: 5450 entries, 0 to 5449\n",
      "Data columns (total 5 columns):\n",
      " #   Column  Non-Null Count  Dtype  \n",
      "---  ------  --------------  -----  \n",
      " 0   ID      5450 non-null   int64  \n",
      " 1   REVIEW  5450 non-null   object \n",
      " 2   RATING  5332 non-null   float64\n",
      " 3   AUTHOR  5450 non-null   object \n",
      " 4   TITLE   5450 non-null   object \n",
      "dtypes: float64(1), int64(1), object(3)\n",
      "memory usage: 213.0+ KB\n"
     ]
    },
    {
     "data": {
      "text/plain": [
       "ID        0\n",
       "REVIEW    0\n",
       "RATING    0\n",
       "AUTHOR    0\n",
       "TITLE     0\n",
       "dtype: int64"
      ]
     },
     "execution_count": 35,
     "metadata": {},
     "output_type": "execute_result"
    }
   ],
   "source": [
    "df.info()\n",
    "df.shape\n",
    "df.columns\n",
    "df.describe()\n",
    "df.isnull().sum()\n",
    "df = df.dropna()\n",
    "df[\"RATING\"].value_counts()\n",
    "df.isnull().sum()\n"
   ]
  },
  {
   "cell_type": "code",
   "execution_count": 5,
   "id": "08d97169-5174-40de-a7bc-8ba632e858e8",
   "metadata": {},
   "outputs": [
    {
     "data": {
      "text/html": [
       "<div>\n",
       "<style scoped>\n",
       "    .dataframe tbody tr th:only-of-type {\n",
       "        vertical-align: middle;\n",
       "    }\n",
       "\n",
       "    .dataframe tbody tr th {\n",
       "        vertical-align: top;\n",
       "    }\n",
       "\n",
       "    .dataframe thead th {\n",
       "        text-align: right;\n",
       "    }\n",
       "</style>\n",
       "<table border=\"1\" class=\"dataframe\">\n",
       "  <thead>\n",
       "    <tr style=\"text-align: right;\">\n",
       "      <th></th>\n",
       "      <th>ID</th>\n",
       "      <th>REVIEW</th>\n",
       "      <th>RATING</th>\n",
       "      <th>TITLE</th>\n",
       "      <th>Class</th>\n",
       "    </tr>\n",
       "  </thead>\n",
       "  <tbody>\n",
       "    <tr>\n",
       "      <th>0</th>\n",
       "      <td>1</td>\n",
       "      <td>I don't get all the terrible reviews for this ...</td>\n",
       "      <td>5.0</td>\n",
       "      <td>Not Bad\\n</td>\n",
       "      <td>1</td>\n",
       "    </tr>\n",
       "    <tr>\n",
       "      <th>1</th>\n",
       "      <td>2</td>\n",
       "      <td>I cannot believe anyone could give this film l...</td>\n",
       "      <td>8.0</td>\n",
       "      <td>What are all the bad reviews about is it a wo...</td>\n",
       "      <td>2</td>\n",
       "    </tr>\n",
       "    <tr>\n",
       "      <th>2</th>\n",
       "      <td>3</td>\n",
       "      <td>Great White is not the worst way to spend 90 m...</td>\n",
       "      <td>4.0</td>\n",
       "      <td>Great White=Jaws Lite\\n</td>\n",
       "      <td>1</td>\n",
       "    </tr>\n",
       "    <tr>\n",
       "      <th>3</th>\n",
       "      <td>4</td>\n",
       "      <td>Great White is as basic of a killer shark film...</td>\n",
       "      <td>4.0</td>\n",
       "      <td>Bare-bones killer shark film\\n</td>\n",
       "      <td>1</td>\n",
       "    </tr>\n",
       "    <tr>\n",
       "      <th>4</th>\n",
       "      <td>5</td>\n",
       "      <td>Terrible story, dialogue and CGI. The film has...</td>\n",
       "      <td>4.0</td>\n",
       "      <td>Terrible story, dialogue, and CGI\\n</td>\n",
       "      <td>1</td>\n",
       "    </tr>\n",
       "  </tbody>\n",
       "</table>\n",
       "</div>"
      ],
      "text/plain": [
       "   ID                                             REVIEW  RATING  \\\n",
       "0   1  I don't get all the terrible reviews for this ...     5.0   \n",
       "1   2  I cannot believe anyone could give this film l...     8.0   \n",
       "2   3  Great White is not the worst way to spend 90 m...     4.0   \n",
       "3   4  Great White is as basic of a killer shark film...     4.0   \n",
       "4   5  Terrible story, dialogue and CGI. The film has...     4.0   \n",
       "\n",
       "                                               TITLE  Class  \n",
       "0                                          Not Bad\\n      1  \n",
       "1   What are all the bad reviews about is it a wo...      2  \n",
       "2                            Great White=Jaws Lite\\n      1  \n",
       "3                     Bare-bones killer shark film\\n      1  \n",
       "4                Terrible story, dialogue, and CGI\\n      1  "
      ]
     },
     "execution_count": 5,
     "metadata": {},
     "output_type": "execute_result"
    }
   ],
   "source": [
    "df[\"Class\"] = df[\"RATING\"].apply(lambda x: 0 if x < 4 else (1 if x in [4, 5, 6] else 2))\n",
    "df.drop(\"AUTHOR\", axis=1, inplace=True)\n",
    "df.head()\n"
   ]
  },
  {
   "cell_type": "code",
   "execution_count": 158,
   "id": "75e46cad-adc5-4bb9-832c-bd56d4bbbad8",
   "metadata": {},
   "outputs": [
    {
     "data": {
      "text/plain": [
       "(21238,)"
      ]
     },
     "execution_count": 158,
     "metadata": {},
     "output_type": "execute_result"
    }
   ],
   "source": []
  },
  {
   "cell_type": "code",
   "execution_count": 159,
   "id": "d2a840ca-dbcc-42cd-985a-f3036be1571e",
   "metadata": {},
   "outputs": [],
   "source": [
    "from spellchecker import SpellChecker"
   ]
  },
  {
   "cell_type": "code",
   "execution_count": 37,
   "id": "1e77a62f-2efd-4dca-bddc-dd24b84ca803",
   "metadata": {},
   "outputs": [],
   "source": [
    "\n",
    "#Ignore this function for now!!!!!\n",
    "\n",
    "def fix_spelling(text):\n",
    "    spell = SpellChecker()\n",
    "    \n",
    "    # Tokenize the text\n",
    "    words = text.split()\n",
    "    \n",
    "    # Correct spelling for each word, they are in a list\n",
    "    corrected_words = []\n",
    "    for word in words:\n",
    "        # Skip non-alphabetic words like numbers or punctuation, or if the word is None\n",
    "        if word.isalpha():\n",
    "            corrected_word = spell.correction(word)  # Get the corrected word\n",
    "            if corrected_word is None:\n",
    "                corrected_words.append(word)  # If correction is None, append the original word\n",
    "            else:\n",
    "                corrected_words.append(corrected_word)  # Otherwise, append the corrected word\n",
    "        else:\n",
    "            corrected_words.append(word)\n",
    "    \n",
    "    # Rebuild the text with corrected words\n",
    "    corrected_text = \" \".join(corrected_words)\n",
    "    \n",
    "    return corrected_text"
   ]
  },
  {
   "cell_type": "code",
   "execution_count": 200,
   "id": "ad9cfac2-13f7-4878-aaf6-9d3c47d5d8fa",
   "metadata": {},
   "outputs": [],
   "source": [
    "def preprocess(text):\n",
    "    doc = nlp(text)\n",
    "    \n",
    "    no_stop_words = [\n",
    "        token.lemma_\n",
    "        for token in doc\n",
    "        if (\n",
    "            not token.is_stop  # Remove stop words\n",
    "            and not token.is_punct  # Remove punctuation\n",
    "            and token.is_alpha  # Remove numbers, symbols\n",
    "            and len(token.lemma_) > 2  # Remove short words\n",
    "            and token.pos_ != \"PROPN\"  # Remove proper nouns\n",
    "            and not re.match(r\"https?://|www\\.\", token.text)  # Remove URLs\n",
    "        )\n",
    "    ]\n",
    "    \n",
    "    return \" \".join(no_stop_words)\n",
    "        \n",
    "        \n",
    "    "
   ]
  },
  {
   "cell_type": "code",
   "execution_count": 206,
   "id": "146dcec1-9866-4343-a5b2-f7522465c192",
   "metadata": {},
   "outputs": [
    {
     "name": "stdout",
     "output_type": "stream",
     "text": [
      "A\n"
     ]
    }
   ],
   "source": [
    "df[\"FIXED_REVIEW\"] = df[\"REVIEW\"].apply(preprocess)"
   ]
  },
  {
   "cell_type": "code",
   "execution_count": 203,
   "id": "f8843743-bd12-420b-ba31-f5668631bcbb",
   "metadata": {},
   "outputs": [],
   "source": [
    "from sklearn.model_selection import train_test_split\n",
    "\n",
    "X_train, X_test, y_train, y_test = train_test_split(df[[\"FIXED_REVIEW\", \"RATING\"]], df.Class)"
   ]
  },
  {
   "cell_type": "code",
   "execution_count": 209,
   "id": "eb368f64-b388-4ac3-aeb8-0440830babfd",
   "metadata": {},
   "outputs": [
    {
     "data": {
      "text/plain": [
       "<4087x11449 sparse matrix of type '<class 'numpy.int64'>'\n",
       "\twith 141752 stored elements in Compressed Sparse Row format>"
      ]
     },
     "execution_count": 209,
     "metadata": {},
     "output_type": "execute_result"
    }
   ],
   "source": [
    "from sklearn.feature_extraction.text import CountVectorizer\n",
    "\n",
    "v = CountVectorizer()\n",
    "\n",
    "bow = v.fit_transform(X_train.FIXED_REVIEW.values)\n"
   ]
  },
  {
   "cell_type": "code",
   "execution_count": 232,
   "id": "008d51fe-cb70-425b-8d14-67c61973fe5f",
   "metadata": {},
   "outputs": [
    {
     "data": {
      "text/plain": [
       "array([[ 0.,  0.,  0., ...,  0.,  0.,  2.],\n",
       "       [ 0.,  0.,  0., ...,  0.,  0.,  3.],\n",
       "       [ 0.,  0.,  0., ...,  0.,  0.,  2.],\n",
       "       ...,\n",
       "       [ 0.,  0.,  0., ...,  0.,  0.,  1.],\n",
       "       [ 0.,  0.,  0., ...,  0.,  0., 10.],\n",
       "       [ 0.,  0.,  0., ...,  0.,  0., 10.]])"
      ]
     },
     "execution_count": 232,
     "metadata": {},
     "output_type": "execute_result"
    }
   ],
   "source": [
    "X_rating = X_train[\"RATING\"].values.reshape(-1, 1)  \n",
    "X_combined = hstack([bow, X_rating])"
   ]
  },
  {
   "cell_type": "code",
   "execution_count": 218,
   "id": "33dbdbef-5ae4-4d7b-9042-d4768dd53fde",
   "metadata": {},
   "outputs": [
    {
     "data": {
      "text/plain": [
       "<4087x11449 sparse matrix of type '<class 'numpy.int64'>'\n",
       "\twith 141752 stored elements in Compressed Sparse Row format>"
      ]
     },
     "execution_count": 218,
     "metadata": {},
     "output_type": "execute_result"
    }
   ],
   "source": []
  },
  {
   "cell_type": "code",
   "execution_count": null,
   "id": "832e36b6-73ec-4505-8b9e-b5bfc5ad295a",
   "metadata": {},
   "outputs": [],
   "source": []
  }
 ],
 "metadata": {
  "kernelspec": {
   "display_name": "Python 3 (ipykernel)",
   "language": "python",
   "name": "python3"
  },
  "language_info": {
   "codemirror_mode": {
    "name": "ipython",
    "version": 3
   },
   "file_extension": ".py",
   "mimetype": "text/x-python",
   "name": "python",
   "nbconvert_exporter": "python",
   "pygments_lexer": "ipython3",
   "version": "3.12.7"
  }
 },
 "nbformat": 4,
 "nbformat_minor": 5
}
