{
 "cells": [
  {
   "cell_type": "code",
   "execution_count": null,
   "id": "3320d960",
   "metadata": {},
   "outputs": [],
   "source": [
    "#import spacy.cli\n",
    "#spacy.cli.download(\"en_core_web_sm\")"
   ]
  },
  {
   "cell_type": "code",
   "execution_count": 1,
   "id": "adff2363",
   "metadata": {},
   "outputs": [
    {
     "name": "stderr",
     "output_type": "stream",
     "text": [
      "C:\\Users\\Matthew\\anaconda3\\Lib\\site-packages\\pandas\\core\\arrays\\masked.py:60: UserWarning: Pandas requires version '1.3.6' or newer of 'bottleneck' (version '1.3.5' currently installed).\n",
      "  from pandas.core import (\n"
     ]
    }
   ],
   "source": [
    "#Modules for data preprocessing\n",
    "import pandas as pd\n",
    "from scipy.sparse import hstack\n",
    "import spacy\n",
    "import re\n",
    "nlp = spacy.load(\"en_core_web_sm\")\n",
    "nlp.Defaults.stop_words -= {\"not\", \"do\"}"
   ]
  },
  {
   "cell_type": "code",
   "execution_count": 2,
   "id": "b2e6226d",
   "metadata": {},
   "outputs": [],
   "source": [
    "# Forming a dataframe\n",
    "import sqlite3\n",
    "\n",
    "# Connect to the database file\n",
    "conn = sqlite3.connect(\"IMDB_Movies_2021.db\")\n",
    "\n",
    "# Create a cursor object\n",
    "cursor = conn.cursor()\n",
    "\n",
    "# Replace 'your_table_name' with the actual table name\n",
    "table_name = \"REVIEWS\"\n",
    "\n",
    "# Read the table into a DataFrame\n",
    "df = pd.read_sql_query(f\"SELECT * FROM {table_name}\", conn)\n",
    "\n",
    "# Close the connection\n",
    "conn.close()"
   ]
  },
  {
   "cell_type": "markdown",
   "id": "b601b278",
   "metadata": {},
   "source": [
    "# Learn about the data and remove null rows"
   ]
  },
  {
   "cell_type": "code",
   "execution_count": 3,
   "id": "16005a96",
   "metadata": {},
   "outputs": [
    {
     "name": "stdout",
     "output_type": "stream",
     "text": [
      "<class 'pandas.core.frame.DataFrame'>\n",
      "RangeIndex: 5450 entries, 0 to 5449\n",
      "Data columns (total 5 columns):\n",
      " #   Column  Non-Null Count  Dtype  \n",
      "---  ------  --------------  -----  \n",
      " 0   ID      5450 non-null   int64  \n",
      " 1   REVIEW  5450 non-null   object \n",
      " 2   RATING  5332 non-null   float64\n",
      " 3   AUTHOR  5450 non-null   object \n",
      " 4   TITLE   5450 non-null   object \n",
      "dtypes: float64(1), int64(1), object(3)\n",
      "memory usage: 213.0+ KB\n"
     ]
    },
    {
     "data": {
      "text/plain": [
       "ID        0\n",
       "REVIEW    0\n",
       "RATING    0\n",
       "AUTHOR    0\n",
       "TITLE     0\n",
       "dtype: int64"
      ]
     },
     "execution_count": 3,
     "metadata": {},
     "output_type": "execute_result"
    }
   ],
   "source": [
    "df.info()\n",
    "df.shape\n",
    "df.columns\n",
    "df.describe()\n",
    "df.isnull().sum()\n",
    "df = df.dropna()\n",
    "df[\"RATING\"].value_counts()\n",
    "df.isnull().sum()"
   ]
  },
  {
   "cell_type": "markdown",
   "id": "47c62655",
   "metadata": {},
   "source": [
    "# Now preprocess"
   ]
  },
  {
   "cell_type": "code",
   "execution_count": 4,
   "id": "5d76c03d",
   "metadata": {},
   "outputs": [],
   "source": [
    "def preprocess(text):\n",
    "    doc = nlp(text)\n",
    "    \n",
    "    no_stop_words = [\n",
    "        token.lemma_\n",
    "        for token in doc\n",
    "        if (\n",
    "            not token.is_stop  # Remove stop words\n",
    "            and not token.is_punct  # Remove punctuation\n",
    "            and token.is_alpha  # Remove numbers, symbols\n",
    "            and len(token.lemma_) > 2  # Remove short words\n",
    "            and token.pos_ != \"PROPN\"  # Remove proper nouns\n",
    "            and not re.match(r\"https?://|www\\.\", token.text)  # Remove URLs\n",
    "        )\n",
    "    ]\n",
    "    \n",
    "    return \" \".join(no_stop_words)"
   ]
  },
  {
   "cell_type": "code",
   "execution_count": 5,
   "id": "58396bbd",
   "metadata": {},
   "outputs": [],
   "source": [
    "df[\"FIXED_REVIEW\"] = df[\"REVIEW\"].apply(preprocess)"
   ]
  },
  {
   "cell_type": "code",
   "execution_count": null,
   "id": "3d6d11be",
   "metadata": {},
   "outputs": [],
   "source": []
  },
  {
   "cell_type": "markdown",
   "id": "bd84de73",
   "metadata": {},
   "source": [
    "# Now create a BOW"
   ]
  },
  {
   "cell_type": "code",
   "execution_count": 6,
   "id": "b53595bd",
   "metadata": {},
   "outputs": [],
   "source": [
    "from sklearn.feature_extraction.text import CountVectorizer\n",
    "\n",
    "v = CountVectorizer()\n",
    "\n",
    "bow = v.fit_transform(df.FIXED_REVIEW.values)"
   ]
  },
  {
   "cell_type": "code",
   "execution_count": 7,
   "id": "b8dc7c63",
   "metadata": {},
   "outputs": [
    {
     "data": {
      "text/plain": [
       "(5332, 12891)"
      ]
     },
     "execution_count": 7,
     "metadata": {},
     "output_type": "execute_result"
    }
   ],
   "source": [
    "bow.toarray().shape"
   ]
  },
  {
   "cell_type": "markdown",
   "id": "efb06ef8",
   "metadata": {},
   "source": [
    "# Here we categorise rating"
   ]
  },
  {
   "cell_type": "code",
   "execution_count": 22,
   "id": "53fe13bb",
   "metadata": {},
   "outputs": [],
   "source": [
    "#Here we categorise our ratings\n",
    "def label_race(row):\n",
    "    if row['RATING'] >= 7:\n",
    "        return 'P'\n",
    "    if row['RATING'] <=3:\n",
    "        return 'N'\n",
    "    else:\n",
    "        return 'M'\n",
    "\n",
    "df['CLASS'] = df.apply(label_race, axis=1) "
   ]
  },
  {
   "cell_type": "code",
   "execution_count": null,
   "id": "bd077679",
   "metadata": {},
   "outputs": [],
   "source": []
  },
  {
   "cell_type": "markdown",
   "id": "14398e18",
   "metadata": {},
   "source": [
    "# Feature selection methods"
   ]
  },
  {
   "cell_type": "code",
   "execution_count": 50,
   "id": "863fce86",
   "metadata": {},
   "outputs": [],
   "source": [
    "#For correlation based ranking\n",
    "\n",
    "def correlation(bow):\n",
    "    new_corr_df = pd.DataFrame(bow.toarray())\n",
    "    new_corr_df['target'] = pd.Series(df['RATING'])\n",
    "    target_series = pd.Series(df['RATING'])\n",
    "    corr_matrix = new_corr_df.corrwith(target_series)\n",
    "    return corr_matrix\n",
    "\n",
    "def best_k(corr_matrix,k,bow):\n",
    "    new_corr_df = pd.DataFrame(bow.toarray())\n",
    "    top_k = corr_matrix.abs().sort_values(ascending=False)[1:k].index.tolist()\n",
    "    selected_features = new_corr_df[top_k]\n",
    "    return(selected_features)"
   ]
  },
  {
   "cell_type": "code",
   "execution_count": 51,
   "id": "37444270",
   "metadata": {},
   "outputs": [],
   "source": [
    "#Deafault of the whole BOW"
   ]
  },
  {
   "cell_type": "code",
   "execution_count": 52,
   "id": "010e52ec",
   "metadata": {},
   "outputs": [],
   "source": [
    "#Chi squared based\n",
    "from sklearn.feature_selection import SelectKBest\n",
    "from sklearn.feature_selection import chi2\n",
    "\n",
    "def chi(bow,df,k):\n",
    "    # N features with highest chi-squared statistics are selected\n",
    "    chi2_features = SelectKBest(chi2, k = k)\n",
    "    X = chi2_features.fit_transform(bow, df['RATING'])\n",
    "    return(X)"
   ]
  },
  {
   "cell_type": "code",
   "execution_count": null,
   "id": "d947fc4c",
   "metadata": {},
   "outputs": [],
   "source": []
  },
  {
   "cell_type": "markdown",
   "id": "f366f99d",
   "metadata": {},
   "source": [
    "# Now models"
   ]
  },
  {
   "cell_type": "code",
   "execution_count": 53,
   "id": "045e1019",
   "metadata": {},
   "outputs": [],
   "source": [
    "#Import packages\n",
    "import warnings\n",
    "warnings.filterwarnings('ignore')\n",
    "from sklearn.model_selection import train_test_split\n",
    "import matplotlib.pyplot as plt\n",
    "from sklearn.naive_bayes import MultinomialNB\n",
    "from sklearn.naive_bayes import GaussianNB"
   ]
  },
  {
   "cell_type": "markdown",
   "id": "c8e6c445",
   "metadata": {},
   "source": [
    "## This uses Gaussian naive bayes (GNB)"
   ]
  },
  {
   "cell_type": "code",
   "execution_count": 54,
   "id": "527aab12",
   "metadata": {},
   "outputs": [],
   "source": [
    "def naive_Gauss_score(selected_features,df):\n",
    "    X_train, X_test, y_train, y_test = train_test_split(selected_features, df['CLASS'], test_size=0.2, random_state=27)\n",
    "    model = GaussianNB()\n",
    "    model.fit(X_train, y_train)\n",
    "    return model.score(X_test,y_test)"
   ]
  },
  {
   "cell_type": "markdown",
   "id": "aafc86e0",
   "metadata": {},
   "source": [
    "## This uses Multinomial naive bayes (MNB)"
   ]
  },
  {
   "cell_type": "code",
   "execution_count": 78,
   "id": "e47e3ced",
   "metadata": {},
   "outputs": [],
   "source": [
    "def naive_Multi_score(selected_features,df):\n",
    "    X_train, X_test, y_train, y_test = train_test_split(selected_features, df['CLASS'], test_size=0.2, random_state=27)\n",
    "    model = MultinomialNB()\n",
    "    model.fit(X_train, y_train)\n",
    "    return model.score(X_test,y_test)"
   ]
  },
  {
   "cell_type": "code",
   "execution_count": null,
   "id": "62b2dc2e",
   "metadata": {},
   "outputs": [],
   "source": []
  },
  {
   "cell_type": "code",
   "execution_count": null,
   "id": "0db010f5",
   "metadata": {},
   "outputs": [],
   "source": []
  },
  {
   "cell_type": "code",
   "execution_count": null,
   "id": "93777c70",
   "metadata": {},
   "outputs": [],
   "source": []
  },
  {
   "cell_type": "markdown",
   "id": "8ecbf419",
   "metadata": {},
   "source": [
    "# Now test and find optimal features"
   ]
  },
  {
   "cell_type": "code",
   "execution_count": 70,
   "id": "70455531",
   "metadata": {},
   "outputs": [],
   "source": [
    "def test_model(start,stop,step,df,model,fs, bow):\n",
    "    values = []\n",
    "    \n",
    "    \n",
    "    if fs == 0:\n",
    "        selected_features = pd.DataFrame(bow.toarray())\n",
    "        if model == 'GNB':\n",
    "                return(naive_Gauss_score(selected_features,df))\n",
    "        if model == 'MNB':\n",
    "            return naive_Multi_score(selected_features,df)\n",
    "   \n",
    "    if fs == 'correlation':\n",
    "                corr_matrix = correlation(bow) \n",
    "    \n",
    "    \n",
    "    if model == 'GNB':\n",
    "        for i in range(start,stop,step):\n",
    "            if fs == 'correlation':\n",
    "                selected_features = best_k(corr_matrix,i,bow)\n",
    "            if fs == 'chi':\n",
    "                selected_features = chi(bow,df,i).toarray()\n",
    "            values.append(naive_Gauss_score(selected_features,df))\n",
    "    \n",
    "    \n",
    "    if model == 'MNB':\n",
    "        for i in range(start,stop,step):\n",
    "            if fs == 'correlation':\n",
    "                selected_features = best_k(corr_matrix,i,bow)\n",
    "            if fs == 'chi':\n",
    "                selected_features = chi(bow,df,i).toarray()\n",
    "            values.append(naive_Multi_score(selected_features,df))\n",
    "    \n",
    "    \n",
    "    plt.plot(range(start,stop,step),values)\n",
    "    plt.show()\n",
    "    maxi = max(values)\n",
    "    index = values.index(maxi)*step + start\n",
    "    return (maxi,index)"
   ]
  },
  {
   "cell_type": "code",
   "execution_count": null,
   "id": "088047bd",
   "metadata": {},
   "outputs": [],
   "source": []
  },
  {
   "cell_type": "markdown",
   "id": "eda743cb",
   "metadata": {},
   "source": [
    "# Here we test different variations"
   ]
  },
  {
   "cell_type": "code",
   "execution_count": 23,
   "id": "15d4cb3b",
   "metadata": {},
   "outputs": [
    {
     "data": {
      "image/png": "[encoded data removed]",
      "text/plain": [
       "<Figure size 640x480 with 1 Axes>"
      ]
     },
     "metadata": {},
     "output_type": "display_data"
    },
    {
     "data": {
      "text/plain": [
       "(0.5482661668228679, 85)"
      ]
     },
     "execution_count": 23,
     "metadata": {},
     "output_type": "execute_result"
    }
   ],
   "source": [
    "#Correlation and Gaussian Naive Bayes\n",
    "test_model(10,100,5,df,'GNB','correlation',bow)"
   ]
  },
  {
   "cell_type": "code",
   "execution_count": 26,
   "id": "24b91b88",
   "metadata": {},
   "outputs": [
    {
     "data": {
      "image/png": "[encoded data removed]",
      "text/plain": [
       "<Figure size 640x480 with 1 Axes>"
      ]
     },
     "metadata": {},
     "output_type": "display_data"
    },
    {
     "data": {
      "text/plain": [
       "(0.6907216494845361, 1640)"
      ]
     },
     "execution_count": 26,
     "metadata": {},
     "output_type": "execute_result"
    }
   ],
   "source": [
    "#Correlation and Multinomial Naive Bayes\n",
    "test_model(500,2000,20,df,'MNB','correlation',bow)"
   ]
  },
  {
   "cell_type": "code",
   "execution_count": 35,
   "id": "16e007cf",
   "metadata": {},
   "outputs": [
    {
     "data": {
      "text/plain": [
       "0.4592314901593252"
      ]
     },
     "execution_count": 35,
     "metadata": {},
     "output_type": "execute_result"
    }
   ],
   "source": [
    "#No FS and Gaussian Naive Bayes\n",
    "test_model(10,100,5,df,'GNB',0,bow)"
   ]
  },
  {
   "cell_type": "code",
   "execution_count": 36,
   "id": "e75f6ce8",
   "metadata": {},
   "outputs": [
    {
     "data": {
      "text/plain": [
       "0.7150890346766635"
      ]
     },
     "execution_count": 36,
     "metadata": {},
     "output_type": "execute_result"
    }
   ],
   "source": [
    "#No FS and Multinomial Naive Bayes\n",
    "test_model(10,100,5,df,'MNB',0,bow)"
   ]
  },
  {
   "cell_type": "code",
   "execution_count": 77,
   "id": "0fa7da35",
   "metadata": {},
   "outputs": [
    {
     "ename": "AttributeError",
     "evalue": "'MultinomialNB' object has no attribute 'accuracy_score'",
     "output_type": "error",
     "traceback": [
      "\u001b[1;31m---------------------------------------------------------------------------\u001b[0m",
      "\u001b[1;31mAttributeError\u001b[0m                            Traceback (most recent call last)",
      "Cell \u001b[1;32mIn[77], line 2\u001b[0m\n\u001b[0;32m      1\u001b[0m \u001b[38;5;66;03m#Chi-square FS and multinomial bayes\u001b[39;00m\n\u001b[1;32m----> 2\u001b[0m test_model(\u001b[38;5;241m10\u001b[39m,\u001b[38;5;241m12000\u001b[39m,\u001b[38;5;241m50\u001b[39m,df,\u001b[38;5;124m'\u001b[39m\u001b[38;5;124mMNB\u001b[39m\u001b[38;5;124m'\u001b[39m,\u001b[38;5;124m'\u001b[39m\u001b[38;5;124mchi\u001b[39m\u001b[38;5;124m'\u001b[39m,bow)\n",
      "Cell \u001b[1;32mIn[70], line 31\u001b[0m, in \u001b[0;36mtest_model\u001b[1;34m(start, stop, step, df, model, fs, bow)\u001b[0m\n\u001b[0;32m     29\u001b[0m         \u001b[38;5;28;01mif\u001b[39;00m fs \u001b[38;5;241m==\u001b[39m \u001b[38;5;124m'\u001b[39m\u001b[38;5;124mchi\u001b[39m\u001b[38;5;124m'\u001b[39m:\n\u001b[0;32m     30\u001b[0m             selected_features \u001b[38;5;241m=\u001b[39m chi(bow,df,i)\u001b[38;5;241m.\u001b[39mtoarray()\n\u001b[1;32m---> 31\u001b[0m         values\u001b[38;5;241m.\u001b[39mappend(naive_Multi_score(selected_features,df))\n\u001b[0;32m     34\u001b[0m plt\u001b[38;5;241m.\u001b[39mplot(\u001b[38;5;28mrange\u001b[39m(start,stop,step),values)\n\u001b[0;32m     35\u001b[0m plt\u001b[38;5;241m.\u001b[39mshow()\n",
      "Cell \u001b[1;32mIn[76], line 5\u001b[0m, in \u001b[0;36mnaive_Multi_score\u001b[1;34m(selected_features, df)\u001b[0m\n\u001b[0;32m      3\u001b[0m model \u001b[38;5;241m=\u001b[39m MultinomialNB()\n\u001b[0;32m      4\u001b[0m model\u001b[38;5;241m.\u001b[39mfit(X_train, y_train)\n\u001b[1;32m----> 5\u001b[0m \u001b[38;5;28;01mreturn\u001b[39;00m model\u001b[38;5;241m.\u001b[39maccuracy_score(X_test,y_test)\n",
      "\u001b[1;31mAttributeError\u001b[0m: 'MultinomialNB' object has no attribute 'accuracy_score'"
     ]
    }
   ],
   "source": [
    "#Chi-square FS and multinomial bayes\n",
    "test_model(10,12000,50,df,'MNB','chi',bow)"
   ]
  },
  {
   "cell_type": "code",
   "execution_count": 74,
   "id": "fe419e7d",
   "metadata": {},
   "outputs": [
    {
     "data": {
      "image/png": "[encoded data removed]",
      "text/plain": [
       "<Figure size 640x480 with 1 Axes>"
      ]
     },
     "metadata": {},
     "output_type": "display_data"
    },
    {
     "data": {
      "text/plain": [
       "(0.5960637300843487, 30)"
      ]
     },
     "execution_count": 74,
     "metadata": {},
     "output_type": "execute_result"
    }
   ],
   "source": [
    "#Chi-square FS and Gaussian bayes\n",
    "test_model(10,2000,20,df,'GNB','chi',bow)"
   ]
  },
  {
   "cell_type": "code",
   "execution_count": null,
   "id": "5eb9d805",
   "metadata": {},
   "outputs": [],
   "source": []
  },
  {
   "cell_type": "code",
   "execution_count": null,
   "id": "0f03abed",
   "metadata": {},
   "outputs": [],
   "source": []
  },
  {
   "cell_type": "markdown",
   "id": "bdfd11ac",
   "metadata": {},
   "source": [
    "# Then after finding the optimal K, we can retrain and calculate our performance metrics"
   ]
  },
  {
   "cell_type": "code",
   "execution_count": null,
   "id": "de8a3e8b",
   "metadata": {},
   "outputs": [],
   "source": []
  },
  {
   "cell_type": "code",
   "execution_count": null,
   "id": "39b8ffdf",
   "metadata": {},
   "outputs": [],
   "source": []
  },
  {
   "cell_type": "code",
   "execution_count": null,
   "id": "165c5fec",
   "metadata": {},
   "outputs": [],
   "source": []
  }
 ],
 "metadata": {
  "kernelspec": {
   "display_name": "Python 3 (ipykernel)",
   "language": "python",
   "name": "python3"
  },
  "language_info": {
   "codemirror_mode": {
    "name": "ipython",
    "version": 3
   },
   "file_extension": ".py",
   "mimetype": "text/x-python",
   "name": "python",
   "nbconvert_exporter": "python",
   "pygments_lexer": "ipython3",
   "version": "3.11.4"
  }
 },
 "nbformat": 4,
 "nbformat_minor": 5
}
